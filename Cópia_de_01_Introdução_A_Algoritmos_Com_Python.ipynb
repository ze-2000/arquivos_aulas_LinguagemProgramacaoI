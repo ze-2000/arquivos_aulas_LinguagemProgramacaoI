{
  "nbformat": 4,
  "nbformat_minor": 0,
  "metadata": {
    "colab": {
      "provenance": [],
      "toc_visible": true,
      "include_colab_link": true
    },
    "kernelspec": {
      "name": "python3",
      "display_name": "Python 3"
    },
    "language_info": {
      "name": "python"
    }
  },
  "cells": [
    {
      "cell_type": "markdown",
      "metadata": {
        "id": "view-in-github",
        "colab_type": "text"
      },
      "source": [
        "<a href=\"https://colab.research.google.com/github/ze-2000/arquivos_aulas_LinguagemProgramacaoI/blob/main/C%C3%B3pia_de_01_Introdu%C3%A7%C3%A3o_A_Algoritmos_Com_Python.ipynb\" target=\"_parent\"><img src=\"https://colab.research.google.com/assets/colab-badge.svg\" alt=\"Open In Colab\"/></a>"
      ]
    },
    {
      "cell_type": "markdown",
      "source": [
        "# **Primeiros passos com Python**\n",
        "\n",
        "Vamos realizar os primeiros códigos com a linguagem Python para observar o funcionamento das etapas:\n",
        "\n",
        "1. Entrada\n",
        "2. Processamento\n",
        "3. Saída\n",
        "4. Comentários"
      ],
      "metadata": {
        "id": "C4nxush2tjXr"
      }
    },
    {
      "cell_type": "markdown",
      "source": [
        "## EXERCÍCIO 1 - Um Bom Programa Inicial\n",
        "\n",
        "O primeiro passo para usar linhas de código em alguma linguagem (saída de dados)"
      ],
      "metadata": {
        "id": "2BylMlXGvBUT"
      }
    },
    {
      "cell_type": "code",
      "source": [
        "print(\"Hello World\")\n",
        "print(\"Hello Again.\")\n",
        "\n",
        "print (\"I like typing this.\")\n",
        "print (\"Yay! Printing.\")\n",
        "\n",
        "print(\"I'd much rather you not.\")\n",
        "print(\"I said do not touch this\")"
      ],
      "metadata": {
        "colab": {
          "base_uri": "https://localhost:8080/"
        },
        "id": "8amykjWAvQjw",
        "outputId": "66003518-2aeb-4941-8d45-a77908817cce"
      },
      "execution_count": null,
      "outputs": [
        {
          "output_type": "stream",
          "name": "stdout",
          "text": [
            "Hello World\n",
            "Hello Again.\n",
            "I like typing this.\n",
            "Yay! Printing.\n",
            "I'd much rather you not.\n",
            "I said do not touch this\n"
          ]
        }
      ]
    },
    {
      "cell_type": "markdown",
      "source": [
        "## EXERCÍCIO 2 - Comentários e cerquilhas\n",
        "\n",
        "Compreender o uso de comentários para minhas linhas de códigos;"
      ],
      "metadata": {
        "id": "PpgDlgQq5upn"
      }
    },
    {
      "cell_type": "code",
      "source": [
        "# Um comentário, assim você pode ler seu programa mais tarde.\n",
        "# Qualquer coisa depois de # é ignorada pelo Python.\n",
        "\n",
        "print(\"I could have code like this.\") # e o comentário depois ignorado\n",
        "\n",
        "#Você também pode usar um comentário para desabilitar um código:\n",
        "#print(\"This won't run\")\n",
        "\n",
        "print ('This will run')"
      ],
      "metadata": {
        "colab": {
          "base_uri": "https://localhost:8080/"
        },
        "id": "ih6l944I53Ms",
        "outputId": "a867bea4-ba3b-461f-f789-f8af0ea8cdea"
      },
      "execution_count": null,
      "outputs": [
        {
          "output_type": "stream",
          "name": "stdout",
          "text": [
            "I could have code like this.\n",
            "This will run\n"
          ]
        }
      ]
    },
    {
      "cell_type": "markdown",
      "source": [
        "## EXERCÍCIO 3 - Números e Matemática\n",
        "\n",
        "Primeiras operações matemáticas, dentro da instrução de saída de dados;"
      ],
      "metadata": {
        "id": "5qWQazIK8aYk"
      }
    },
    {
      "cell_type": "code",
      "source": [
        "# Inicia com um texto sobre o que sera feito no resto do programa\n",
        "print(\"I will now count my chickens\")\n",
        "\n",
        "\n",
        "#Irá concatenar o texto entre aspas com o resultado das operações após as vírgulas\n",
        "print(\"Hens\", 25 + 30 / 6)\n",
        "print(\"Roosters\", 100 - 25 * 3 % 4)\n",
        "\n",
        "\n",
        "# Inicia com um texto sobre o que sera feito no resto do programa\n",
        "print(\"I will count the eggs:\")\n",
        "\n",
        "\n",
        "#Irá realizar uma operação matemática\n",
        "print(3 + 2 + 1 - 5 + 4 % 2 - 1 / 4 + 6)\n",
        "\n",
        "\n",
        "#Inicia com um texto sobre o que será feito no resto do programa\n",
        "print(\"Is it true that 3 + 2 < 5 - 7?\")\n",
        "\n",
        "\n",
        "#Realizar uma operação relacionando em que o resultado é booleano\n",
        "print(3 + 2 < 5 - 7)\n",
        "\n",
        "\n",
        "#Inicia com um texto sobre o que sera feito no resto do programa\n",
        "print(\"What is 3 + 2?\", 3 + 2)\n",
        "print(\"What is 5 - 7?\", 5 - 7)\n",
        "\n",
        "\n",
        "#Inicia com um texto sobre o que sera feito no resto do programa\n",
        "print(\"Oh, that's why it's False.\")\n",
        "\n",
        "\n",
        "#Inicia com um texto sobre o que sera feito no resto do programa\n",
        "print(\"How about some more.\")\n",
        "\n",
        "#Texto com operações relacionais\n",
        "print(\"Is it greater?\", 5 > -2)\n",
        "print(\"Is it greater or equal?\", 5 >= -2)\n",
        "print(\"Is it less or equal?\", 5 <= -2)"
      ],
      "metadata": {
        "colab": {
          "base_uri": "https://localhost:8080/"
        },
        "id": "eD1MWbNJ8l32",
        "outputId": "d5238159-a1b3-4258-f64d-13ea55502925"
      },
      "execution_count": null,
      "outputs": [
        {
          "output_type": "stream",
          "name": "stdout",
          "text": [
            "I will now count my chickens\n",
            "Hens 30.0\n",
            "Roosters 97\n",
            "I will count the eggs:\n",
            "6.75\n",
            "Is it true that 3 + 2 < 5 - 7?\n",
            "False\n",
            "What is 3 + 2? 5\n",
            "What is 5 - 7? -2\n",
            "Oh, that's why it's False.\n",
            "How about some more.\n",
            "Is it greater? True\n",
            "Is it greater or equal? True\n",
            "Is it less or equal? False\n"
          ]
        }
      ]
    },
    {
      "cell_type": "markdown",
      "source": [
        "## EXERCÍCIO 4 - Variáveis e Nomes\n",
        "\n",
        "Como declarar variáveis e seus rótulos"
      ],
      "metadata": {
        "id": "4uRM9A7MAqtR"
      }
    },
    {
      "cell_type": "code",
      "source": [
        "cars = 100 #atribuindo um número inteiro\n",
        "spaceInACar = 4.0 #atribuindo um número real\n",
        "drivers = 30 #atribuindo um número inteiro\n",
        "passengers = 90 #atribuindo um número inteiro\n",
        "carsNotDriven = cars - drivers #Operação aritmética entre inteiro e inteiro\n",
        "carsDriven = drivers #atribuição de valor entre variáveis sem operação\n",
        "carpoolCapacity = carsDriven * spaceInACar #atribuindo o resultado de uma operação atritmética entre inteiro e real\n",
        "averagePassengersPerCar = passengers / carsDriven #atribuindo o resultado de uma operação aritmética entre inteiro e inteiro\n",
        "\n",
        "print(\"There are\", cars, \"cars avaliable\")\n",
        "print(\"There are only\", drivers, \"drivers avaliable\")\n",
        "print(\"There will be\", carsNotDriven, \"empty cars today.\")\n",
        "print(\"We can transport\", carpoolCapacity, \"people today.\")\n",
        "print(\"We have\", passengers, \"to carpool today.\")\n",
        "print(\"We need to put about\", averagePassengersPerCar, \"in each car.\")\n",
        "print(10/5)"
      ],
      "metadata": {
        "colab": {
          "base_uri": "https://localhost:8080/"
        },
        "id": "aUNyiUEVA_GA",
        "outputId": "678f4e84-feaf-490b-d381-cfa7da76ac0e"
      },
      "execution_count": null,
      "outputs": [
        {
          "output_type": "stream",
          "name": "stdout",
          "text": [
            "There are 100 cars avaliable\n",
            "There are only 30 drivers avaliable\n",
            "There will be 70 empty cars today.\n",
            "We can transport 120.0 people today.\n",
            "We have 90 to carpool today.\n",
            "We need to put about 3.0 in each car.\n",
            "2.0\n"
          ]
        }
      ]
    }
  ]
}