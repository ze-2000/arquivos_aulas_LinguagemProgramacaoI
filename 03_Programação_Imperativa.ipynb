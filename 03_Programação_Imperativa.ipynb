{
  "nbformat": 4,
  "nbformat_minor": 0,
  "metadata": {
    "colab": {
      "provenance": [],
      "toc_visible": true,
      "include_colab_link": true
    },
    "kernelspec": {
      "name": "python3",
      "display_name": "Python 3"
    },
    "language_info": {
      "name": "python"
    }
  },
  "cells": [
    {
      "cell_type": "markdown",
      "metadata": {
        "id": "view-in-github",
        "colab_type": "text"
      },
      "source": [
        "<a href=\"https://colab.research.google.com/github/ze-2000/arquivos_aulas_LinguagemProgramacaoI/blob/main/03_Programa%C3%A7%C3%A3o_Imperativa.ipynb\" target=\"_parent\"><img src=\"https://colab.research.google.com/assets/colab-badge.svg\" alt=\"Open In Colab\"/></a>"
      ]
    },
    {
      "cell_type": "markdown",
      "source": [
        "#2. Aula 03 - Fundamentos da Linguagem Python\n",
        "\n",
        "  * Impressões de informações\n",
        "\n",
        "  * Entradas de dados\n",
        "  \n",
        "  * Desvio condicional"
      ],
      "metadata": {
        "id": "35afWlJX04Xf"
      }
    },
    {
      "cell_type": "markdown",
      "source": [
        "## 2.1 Instruções\n",
        "\n",
        "Apenas como lembrete:\n",
        "\n",
        "1. Volte para o código e escreva um comentário sobre o que cada linha faz.\n",
        "\n",
        "2. Após cada código, você irá escrever quais são os novos comandos que aparecem no exercício\n",
        "\n",
        "3. Verifique seus erros, leia cada uma de trás para frente ou em voz alta para encontrar seus erros.\n",
        "\n",
        "4. De agora em diante, quando cometer erros, anote o seu erro após o código.\n",
        "\n",
        "5. Quando for para o próximo exercício, veja os erros cometidos e tente não errar no novo exercício."
      ],
      "metadata": {
        "id": "I68F9EHt6R0A"
      }
    },
    {
      "cell_type": "markdown",
      "source": [
        "## 2.2 Exercício 9 - Imprimindo, imprimindo, imprimindo"
      ],
      "metadata": {
        "id": "4Vi-fLg21F2s"
      }
    },
    {
      "cell_type": "code",
      "execution_count": null,
      "metadata": {
        "colab": {
          "base_uri": "https://localhost:8080/"
        },
        "id": "J98Nc26d0LOb",
        "outputId": "7a4e4e55-d143-4cac-bebb-4abfc6e70e0a"
      },
      "outputs": [
        {
          "output_type": "stream",
          "name": "stdout",
          "text": [
            "Here are the days: Mon Tue Wed Thu Fri Sat Sun\n",
            "Here are the months: \n",
            "Jan\n",
            "Feb\n",
            "Mar\n",
            "Apr\n",
            "May\n",
            "Jun\n",
            "Jul\n",
            "Ago\n",
            "Set\n",
            "Out\n",
            "Nov\n",
            "Dez\n",
            "\n",
            "There's something going on here.\n",
            "With the three double quotes.\n",
            "We'll be able to type as much as we like.\n",
            "Even 4 lines if we want, or 5, or 6.\n",
            "\n"
          ]
        }
      ],
      "source": [
        "days = \"Mon Tue Wed Thu Fri Sat Sun\" #String normal\n",
        "months = \"\\nJan\\nFeb\\nMar\\nApr\\nMay\\nJun\\nJul\\nAgo\\nSet\\nOut\\nNov\\nDez\" #String com quebra de linha\n",
        "\n",
        "print(\"Here are the days:\", days) # Impressão com concatenação da variável no final\n",
        "print(\"Here are the months:\", months)\n",
        "\n",
        "#Impressão de bloco de texto\n",
        "print(\"\"\"\n",
        "There's something going on here.\n",
        "With the three double quotes.\n",
        "We'll be able to type as much as we like.\n",
        "Even 4 lines if we want, or 5, or 6.\n",
        "\"\"\")"
      ]
    },
    {
      "cell_type": "markdown",
      "source": [
        "### 2.2.1 Novidades neste exercício\n",
        "\n",
        "1. Armazenamento de uma string para uma variável, com chamado da variável na execução do código\n",
        "\n",
        "  `days = Mon Tue Wed...`\n",
        "\n",
        "  `print([...], days)`\n",
        "\n",
        "2. Utilização do \\n para quebra de linha das strings;\n",
        "\n",
        "  `months = \"\\nJan\\nFeb\\nMar\\nApr\\nMay\\nJun\\nJul\\nAgo\\nSet\\nOut\\nNov\\nDez\"`\n",
        "\n",
        "3. Aspas triplas para que seja possível a digitação de texto em múltiplas linhas. Não é necessário atribuir uma quebra de linha (`\\n`) pois o próprio sistema parece reconhecer e gravar a posição das linhas.\n",
        "\n",
        "  `print(\"\"\"`\n",
        "\n",
        "  `There's something going on here.`\n",
        "\n",
        "  `With the three double quotes.`\n",
        "\n",
        "  `We'll be able to type as much as we like.`\n",
        "\n",
        "  `Even 4 lines if we want, or 5, or 6.`\n",
        "\n",
        "  `\"\"\")`"
      ],
      "metadata": {
        "id": "5TQ81Pm6AYpK"
      }
    },
    {
      "cell_type": "markdown",
      "source": [
        "### 2.2.2 Erros que cometi neste exercício\n",
        "\n",
        "  Nenhum erro foi cometido, mas identifiquei algumas melhorias:\n",
        "\n",
        "  *  Não preciso saltar um espaço no print após o `... days:\", days)` ou `...months:, months)\"` das linhas 4 e 5, pois o espaço vem automático.\n",
        "  \n",
        "  * Para que os meses sejam exibidos de forma homogênea, eu deixei uma quebra de linha também no mês de Janeiro.\n",
        "\n",
        "Além disso, corrigi alguns erros gramaticais/concordância do texto em inglês durante a digitação."
      ],
      "metadata": {
        "id": "DPLBb5V5BBXD"
      }
    },
    {
      "cell_type": "markdown",
      "source": [
        "## 2.3 Exercício 10 - O que foi isso?"
      ],
      "metadata": {
        "id": "K2D5zhhm4ZP4"
      }
    },
    {
      "cell_type": "code",
      "source": [
        "tabby_cat = \"\\tI'm tabbed in.\"          # \\t Salta espaço na impressão, como ocorreria em um tab.\n",
        "persian_cat = \"I'm split\\non a line.\"   # \\n Realiza quebra de linha\n",
        "backslash_cat = \"I'm \\\\ a \\\\ cat.\"\n",
        "# Como \\ costuma ter um comando atrelado a uma letra subsequente,\n",
        "#\\\\ permite conseguirmos utilizar o caractere da barra invertida como barra.\n",
        "\n",
        "fat_cat = \"\"\"\n",
        "I'll do a list:\n",
        "\\t* Cat food \\t* Fishies\n",
        "\\t* Catnip\\n\\t* Grass\n",
        "\"\"\"\n",
        "#Mescla da tabulação com quebra de linha para deixar com aparência de lista.\n",
        "#Fishies não está alinhado pois a quebra de linha não foi feita com enter e\n",
        "# nem com o \\n.\n",
        "\n",
        "print(tabby_cat)\n",
        "print(persian_cat)\n",
        "print(backslash_cat)\n",
        "print(fat_cat)"
      ],
      "metadata": {
        "colab": {
          "base_uri": "https://localhost:8080/"
        },
        "id": "lz4gVD3M6Zat",
        "outputId": "fab5d5dc-9e99-4772-adc9-8442bb68d369"
      },
      "execution_count": null,
      "outputs": [
        {
          "output_type": "stream",
          "name": "stdout",
          "text": [
            "\tI'm tabbed in.\n",
            "I'm split\n",
            "on a line.\n",
            "I'm \\ a \\ cat.\n",
            "\n",
            "I'll do a list:\n",
            "\t* Cat food \t* Fishies\n",
            "\t* Catnip\n",
            "\t* Grass\n",
            "\n"
          ]
        }
      ]
    },
    {
      "cell_type": "markdown",
      "source": [
        "### 2.3.1 Novidades neste exercício\n",
        "\n",
        "1. Mais opções de formatação de uma string\n",
        "\n",
        "  `\\t` realiza tabulação do código;\n",
        "\n",
        "  `\\n` realiza quebra de linha;\n",
        "\n",
        "  `\\\\` Imprime o caractere backslash, já que ele costuma ser utilizado como parte do comando das outras linhas. Isso serviria, por exemplo, para que pudéssemos referenciar o caminho de um arquivo no Windows.\n",
        "  (Obs: no próprio texto do colab isso também é utilizado e eu preciso deixar dois \\\\ para mostrar apenas um. )"
      ],
      "metadata": {
        "id": "cc3RBaWj4YL6"
      }
    },
    {
      "cell_type": "markdown",
      "source": [
        "### 2.3.2 Erros que cometi neste exercício\n",
        "\n",
        "  Nenhum erro foi cometido na digitação ou execução deste código. Hooray!\n"
      ],
      "metadata": {
        "id": "80wz5PMb4lBT"
      }
    },
    {
      "cell_type": "markdown",
      "source": [
        "## 2.4 Exercício 11 - Fazendo perguntas"
      ],
      "metadata": {
        "id": "lj5gQxxk4jiO"
      }
    },
    {
      "cell_type": "code",
      "source": [
        "print(\"How old are you?\", end=' ') #end=' ' serve para modificar o que acontece como padrão no final da linha. Neste caso, a quebra foi substituída por um espaço.\n",
        "age = input() #Comando para que o usuário insira dados, que é armazenado na variável age\n",
        "print(\"How tall are you?\", end=' ')\n",
        "height = input() #Comando para que o usuário insira dados, que é armazenado na variável height\n",
        "print(\"How much do you weigh?\", end=' ')\n",
        "weight = input() #Comando para que o usuário insira dados, que é armazenado na variável weight\n",
        "\n",
        "print(f\"So, you're {age} old, {height} tall and {weight} heavy.\")"
      ],
      "metadata": {
        "colab": {
          "base_uri": "https://localhost:8080/"
        },
        "id": "Pu99rlj5B1zz",
        "outputId": "62ed6063-c6ec-4c38-d2aa-69cafc62b70f"
      },
      "execution_count": null,
      "outputs": [
        {
          "output_type": "stream",
          "name": "stdout",
          "text": [
            "How old are you? 32\n",
            "How tall are you? 160\n",
            "How much do you weigh? 85\n",
            "So, you're 32 old, 160 tall and 85 heavy.\n"
          ]
        }
      ]
    },
    {
      "cell_type": "markdown",
      "source": [
        "### 2.4.1 Novidades neste exercício\n",
        "\n",
        "1. Impressão modificada no final da linha\n",
        "\n",
        "* O `end= ' '` é utilizado para modificar o que é considerado como default (padrão) em relação a quebra de linha. Como padrão, toda vez que ocorre um novo compando, há uma quebra de linha. O end substitui a quebra de linha por alguma outra coisa. Neste caso, é um espaço em branco.\n",
        "\n",
        "2. Entrada de dados\n",
        "\n",
        "* Aqui, também vemos uma versão simples do comando `input` para receber dados digitados do usuário. Neste caso, ele foi inserido na linha de baixo, sem se integrar com o texto impresso, para que possa ser atribuído a uma variável, que é exibida na linha 8 através de uma impressão formatada."
      ],
      "metadata": {
        "id": "v8ju25he4yy3"
      }
    },
    {
      "cell_type": "markdown",
      "source": [
        "### 2.4.2 Erros que cometi neste exercício\n",
        "\n",
        "  Nenhum erro foi cometido na digitação ou execução deste código. Hooray!\n"
      ],
      "metadata": {
        "id": "isv3J-nD5gA4"
      }
    },
    {
      "cell_type": "markdown",
      "source": [
        "## 2.5 Exercício 12 - Perguntando as Pessoas"
      ],
      "metadata": {
        "id": "_soGSN0q4uGX"
      }
    },
    {
      "cell_type": "code",
      "source": [
        "#Repare no espaço no final da pergunta\n",
        "age = input(\"How old are you? \") #Outra forma de receber o input com menos linhas\n",
        "height = input(\"How tall are you? \")\n",
        "weight = input(\"How much do you weigh? \")\n",
        "\n",
        "print(f\"So, you're {age} old, {height} tall and {weight} heavy.\")"
      ],
      "metadata": {
        "colab": {
          "base_uri": "https://localhost:8080/"
        },
        "id": "ygBHURsLHHWy",
        "outputId": "86adeb27-3ae0-4515-bb7e-6ecc9f6ef629"
      },
      "execution_count": null,
      "outputs": [
        {
          "output_type": "stream",
          "name": "stdout",
          "text": [
            "How old are you? 32\n",
            "How tall are you? 160\n",
            "How much do you weigh? 85\n",
            "So, you're 32 old, 160 tall and 85 heavy.\n"
          ]
        }
      ]
    },
    {
      "cell_type": "markdown",
      "source": [
        "### 2.5.1 Novidades neste exercício\n",
        "\n",
        "1. Nova forma de input de dados\n",
        "\n",
        "  Ao contrário do exercício anterior, em que o recebimento do input e atribuição dos dados na variável é realizado na linha de baixo, este exercício mostra como fazer isso de uma forma mais enxuta.\n",
        "\n",
        "  Não é necessário o `end= ' '`, mas é importante que exista um espaço no final da string para que a pergunta e a inserção dos dados não fiquem colados."
      ],
      "metadata": {
        "id": "nbw0qCLb5Vxj"
      }
    },
    {
      "cell_type": "markdown",
      "source": [
        "### 2.5.2 Erros que cometi neste exercício\n",
        "\n",
        "  Nenhum erro foi cometido na digitação ou execução deste código. Hooray!"
      ],
      "metadata": {
        "id": "zXfQz2595g_e"
      }
    },
    {
      "cell_type": "markdown",
      "source": [
        "## 2.6 Exercício 13 - Instrução IF"
      ],
      "metadata": {
        "id": "-aC_sE5m4uPw"
      }
    },
    {
      "cell_type": "code",
      "source": [
        "people = 20\n",
        "cats = 30\n",
        "dogs = 15\n",
        "\n",
        "#condicional simples comparando as variáveis entre si\n",
        "\n",
        "if people < cats:\n",
        "  print(\"Too many cats! The world is doomed!\")\n",
        "\n",
        "if people > cats:\n",
        "  print(\"Not many cats! The world is saved!\")\n",
        "\n",
        "if people < dogs:\n",
        "  print(\"The world is drooled on!\")\n",
        "\n",
        "if dogs < people:\n",
        "  print(\"The world is dry!\")\n",
        "\n",
        "dogs+=5 #incremento para adicionar 5 ao valor atual da variável dogs. dogs = dogs + 5\n",
        "\n",
        "if people >= dogs:\n",
        "  print(\"People are greater than or equal to dogs.\")\n",
        "\n",
        "if people <= dogs:\n",
        "  print(\"People are less than or equal to dogs.\")\n",
        "\n",
        "if people == dogs:\n",
        "  print(\"People are dogs.\")"
      ],
      "metadata": {
        "colab": {
          "base_uri": "https://localhost:8080/"
        },
        "id": "w6RZe5PLHIC8",
        "outputId": "01fe463d-0483-4fe6-94df-42bf7272a48c"
      },
      "execution_count": null,
      "outputs": [
        {
          "output_type": "stream",
          "name": "stdout",
          "text": [
            "Too many cats! The world is doomed!\n",
            "The world is dry!\n",
            "People are greater than or equal to dogs.\n",
            "People are less than or equal to dogs.\n",
            "People are dogs.\n"
          ]
        }
      ]
    },
    {
      "cell_type": "markdown",
      "source": [
        "### 2.6.1 Novidades neste exercício\n",
        "\n",
        "1. Condicional if\n",
        "\n",
        "  Aqui vemos os usos das condicionais para comparação de diferentes variáveis.\n",
        "\n",
        "  `if dogs < people:`\n",
        "\n",
        "  `if people < cats:`\n",
        "\n",
        "  Neste exercício, apenas comandos simples do if foram utilizados, com resultados impressos se a condição validada for verdadeira.\n",
        "\n",
        "2. Incremento\n",
        "\n",
        "  O comando `dogs+=5` realiza um incremento nos valores atribuídos à variável `dogs`, que antes recebia o número `15` e agora recebe o número `20`."
      ],
      "metadata": {
        "id": "XODU26yN5XGH"
      }
    },
    {
      "cell_type": "markdown",
      "source": [
        "### 2.6.2 Erros que cometi neste exercício\n",
        "\n",
        "  Nenhum erro foi cometido na digitação ou execução deste código. Hooray!\n",
        "\n",
        "  (Mas preciso pensar bastante nos símbolos de comparação pois sempre me confundo)"
      ],
      "metadata": {
        "id": "20zoYBQc5hjw"
      }
    },
    {
      "cell_type": "markdown",
      "source": [
        "## 2.7 Exercício 14 - Else e IF"
      ],
      "metadata": {
        "id": "ymvAafhI4uVY"
      }
    },
    {
      "cell_type": "code",
      "source": [
        "people = 30\n",
        "cars = 40\n",
        "trucks = 15\n",
        "\n",
        "# Condicionais utilizando if, elif e else. Novamente, as variáveis são comparadas entre si.\n",
        "\n",
        "if cars > people: # avaliando condição 1;\n",
        "  print(\"We should take the cars.\")\n",
        "\n",
        "elif cars < people: # se falso, avaliando condição 2;\n",
        "  print(\"We should not take the cars.\")\n",
        "\n",
        "else: # se ambos forem falsos.\n",
        "  print(\"We can't decide.\")\n",
        "\n",
        "if trucks > cars: # avaliando condição 1;\n",
        "  print(\"That's too many trucks.\")\n",
        "\n",
        "elif trucks < cars: # se falso, avaliando condição 2;\n",
        "  print(\"Maybe we could take the trucks.\")\n",
        "\n",
        "else: # se ambos forem falsos.\n",
        "  print(\"We still can't decide.\")\n",
        "\n",
        "if people > trucks: # avaliando condição 1;\n",
        "  print(\"Allright, let's just take the trucks.\")\n",
        "\n",
        "else: # se condição 1 falsa.\n",
        "  print(\"Fine, let's stay home then.\")"
      ],
      "metadata": {
        "id": "MV0UOW0hHIgJ",
        "colab": {
          "base_uri": "https://localhost:8080/"
        },
        "outputId": "23e9cd31-2b8a-41ca-e148-0ee5b8876ca5"
      },
      "execution_count": null,
      "outputs": [
        {
          "output_type": "stream",
          "name": "stdout",
          "text": [
            "We should take the cars.\n",
            "Maybe we could take the trucks.\n",
            "Allright, let's just take the trucks.\n"
          ]
        }
      ]
    },
    {
      "cell_type": "markdown",
      "source": [
        "### 2.7.1 Novidades neste exercício\n",
        "\n",
        "1. Novos elementos condicionais: `elif` e `else`\n",
        "\n",
        "  O `elif` é utilizado para testar múltiplas condições.\n",
        "  O `else` é executado se as demais condições verificadas anteriormente no bloco if/elif sejam falsas.\n",
        "\n",
        "  Dentro do elif, assim que o primeiro bloco se tornar verdadeiro, os demais itens avaliados no bloco elif são ignorados.\n",
        "\n",
        "  Então por exemplo, no primeiro bloco a primeira condição se tornou verdadeira `if cars > people:`. Deste modo, o print atrelado a esta condição foi impresso `\"We should take the cars.\"` e os demais prints do elif e do else foram ignorados.\n",
        "\n",
        "  No segundo bloco, a primeira condição era falsa `trucks > cars:` e a segunda era verdadeira `trucks < cars`. Assim, apenas a segunda foi impressa.\n",
        "\n",
        "  No terceiro bloco, para garantir a impressão do else, seria necessário que a condição `trucks < cars` tenha um resultado falso. Neste caso, como a condição é verdadeira, o else não foi executado."
      ],
      "metadata": {
        "id": "zCx3sx9P5Xxe"
      }
    },
    {
      "cell_type": "markdown",
      "source": [
        "### 2.7.2 Erros que cometi neste exercício\n",
        "\n",
        "  Nenhum erro foi cometido na digitação ou execução deste código. Hooray!\n",
        "\n",
        "  (Mas preciso pensar bastante nos símbolos de comparação pois sempre me confundo)\n"
      ],
      "metadata": {
        "id": "HkrzbH2C5iCN"
      }
    },
    {
      "cell_type": "markdown",
      "source": [
        "## 2.8 Exercício 15 - Tomando Decisões"
      ],
      "metadata": {
        "id": "2AammnSF4uYg"
      }
    },
    {
      "cell_type": "code",
      "source": [
        "# Utilização das instruções encontradas em outro exercício para criação de um\n",
        "# joguinho \"escolha a sua aventura\". As opções de portas estão separadas\n",
        "# com condicionais e, algumas vezes condicionais dentro de outras condicionais.\n",
        "\n",
        "print(\"\"\" You enter a dark room with two doors.\n",
        "          Do you go through door #1 or door #2? \"\"\")\n",
        "\n",
        "door = input(\"> \")\n",
        "\n",
        "if door == \"1\": # **porta 1**, porta 2 ou outra opção\n",
        "  print(\"There's a giant bear here eating a cheese cake.\")\n",
        "  print(\"What do you do?\")\n",
        "  print(\"1. Take the cake.\")\n",
        "  print(\"2. Scream at the bear.\")\n",
        "\n",
        "  bear = input(\"> \")\n",
        "\n",
        "  #dentro da porta 1, as opções disponíveis\n",
        "\n",
        "  if bear == \"1\":\n",
        "    print(\"The bear eats your face off. Good job!\")\n",
        "  elif bear == \"2\":\n",
        "    print(\"The bear eats your legs off. Good job!\")\n",
        "  else:\n",
        "    print(f\"Well, doing {bear} is probably better.\")\n",
        "    print(\"Bear runs away.\")\n",
        "\n",
        "elif door == \"2\": # porta 1, **porta 2** ou outra opção\n",
        "  print(\"You stare at the endless abyss at Cthullu's retina.\")\n",
        "  print(\"1. Blueberries.\")\n",
        "  print(\"2. Yellow jacket clothespins.\")\n",
        "  print(\"3. Understanding revolvers yellow melodies.\")\n",
        "\n",
        "  insanity = input(\"> \")\n",
        "\n",
        "  #dentro da porta 2, as opções disponíveis\n",
        "\n",
        "  if insanity == \"1\" or insanity == \"2\":\n",
        "    print(\"Your body survives powered by a mind of jello.\")\n",
        "    print(\"Good job!\")\n",
        "\n",
        "  else:\n",
        "    print(\"The insanity rots your eyes into a pool of muck.\")\n",
        "    print(\"Good job!\")\n",
        "\n",
        "else: # porta 1, porta 2 ou **outra opção**\n",
        "  print(\"You stumble and fall on a knife and die. Good job!\")"
      ],
      "metadata": {
        "id": "m7Qq2AwpHI8h",
        "colab": {
          "base_uri": "https://localhost:8080/"
        },
        "outputId": "96808357-2aa0-43fe-bb1b-3f6efedaff3a"
      },
      "execution_count": null,
      "outputs": [
        {
          "output_type": "stream",
          "name": "stdout",
          "text": [
            " You enter a dark room with two doors.\n",
            "          Do you go through door #1 or door #2? \n",
            "> 2\n",
            "You stare at the endless abyss at Cthullu's retina.\n",
            "1. Blueberries.\n",
            "2. Yellow jacket clothespins.\n",
            "3. Understanding revolvers yellow melodies.\n",
            "> 1\n",
            "Your body survives powered by a mind of jello.\n",
            "Good job!\n"
          ]
        }
      ]
    },
    {
      "cell_type": "markdown",
      "source": [
        "### 2.8.1 Novidades neste exercício\n",
        "\n",
        "1. Condicionais dentro de blocos condicionais\n",
        "\n",
        "  O código não possui muitos elementos novos, mas conta com um resumo do que vimos até agora em termos de condicionais e impressões.\n",
        "\n",
        "  O que consegui identificar de diferente é que como se trata de uma aventura com diferentes escolhas, as escolhas de \"nível 1\" resultariam em novas possibilidades de \"nível 2\", como por exemplo optar pela porta 01 e dentro da porta 01, optar por pegar o bolo do urso.\n",
        "\n",
        "  A opção pegar o bolo do urso só está disponível se você escolher a porta 01. Assim, temos um exemplo de condicional dentro de uma condicional."
      ],
      "metadata": {
        "id": "UYrA6vKQ5Yjz"
      }
    },
    {
      "cell_type": "markdown",
      "source": [
        "### 2.8.2 Erros que cometi neste exercício\n",
        "\n",
        "  Algumas vezes eu esqueci de colocar os números das portas como strings.\n"
      ],
      "metadata": {
        "id": "BmK0kdwR5inB"
      }
    }
  ]
}