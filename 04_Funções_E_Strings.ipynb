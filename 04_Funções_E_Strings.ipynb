{
  "nbformat": 4,
  "nbformat_minor": 0,
  "metadata": {
    "colab": {
      "provenance": [],
      "include_colab_link": true
    },
    "kernelspec": {
      "name": "python3",
      "display_name": "Python 3"
    },
    "language_info": {
      "name": "python"
    }
  },
  "cells": [
    {
      "cell_type": "markdown",
      "metadata": {
        "id": "view-in-github",
        "colab_type": "text"
      },
      "source": [
        "<a href=\"https://colab.research.google.com/github/ze-2000/arquivos_aulas_LinguagemProgramacaoI/blob/main/04_Fun%C3%A7%C3%B5es_E_Strings.ipynb\" target=\"_parent\"><img src=\"https://colab.research.google.com/assets/colab-badge.svg\" alt=\"Open In Colab\"/></a>"
      ]
    },
    {
      "cell_type": "markdown",
      "source": [
        "# 3. Aula 04 - Fundamentos da Linguagem Python\n",
        "\n",
        "  * Laços de Repetição\n",
        "\n",
        "  * Listas\n",
        "  \n",
        "  * Funções"
      ],
      "metadata": {
        "id": "njIm0Mn-0A7V"
      }
    },
    {
      "cell_type": "markdown",
      "source": [
        "## 3.1 Instruções\n",
        "\n",
        "Apenas como lembrete:\n",
        "\n",
        "  1. Volte para o código e escreva um comentário sobre o que cada linha faz.\n",
        "\n",
        "  2. Após cada código, você irá escrever quais são os novos comandos que aparecem no exercício\n",
        "\n",
        "  3. Verifique seus erros, leia cada uma de trás para frente ou em voz alta para encontrar seus erros.\n",
        "\n",
        "  4. De agora em diante, quando cometer erros, anote o seu erro após o código.\n",
        "\n",
        "  5. Quando for para o próximo exercício, veja os erros cometidos e tente não errar no novo exercício."
      ],
      "metadata": {
        "id": "I68F9EHt6R0A"
      }
    },
    {
      "cell_type": "markdown",
      "source": [
        "## 3.2 - Exercício 16 - Loops e Listas"
      ],
      "metadata": {
        "id": "7W-fWbj52F50"
      }
    },
    {
      "cell_type": "code",
      "source": [
        "the_count = [1, 2, 3, 4, 5] # lista numérica\n",
        "fruits = ['apples', 'oranges', 'pears', 'apricots'] # lista de strings\n",
        "change = [1, 'pennies', 2, 'dimes', 3, 'quarters'] # lista com vários tipos\n",
        "\n",
        "# loop finito com for, passa por cada número da primeira lista e mostra o número\n",
        "for number in the_count:\n",
        "  print(f\"This is the count {number}\")\n",
        "\n",
        "# passa por cada fruta dentro da lista fruits\n",
        "for fruit in fruits:\n",
        "  print(f\"A fruit of type: {fruit}\")\n",
        "\n",
        "# passa por cada elemento da lista change\n",
        "for i in change:\n",
        "  print(f\"I got {i}\")\n",
        "\n",
        "# lista vazia\n",
        "elements = []\n",
        "\n",
        "# Neste caso o loop não passa por cada elemento e sim inserimos um valor\n",
        "# específico para finalização do loop (6). Ele gerará 6 outputs, mas como\n",
        "# começa com o índice 0, o número 6 não será incluso.\n",
        "for i in range (0,6):\n",
        "  print(f\"Adding {i} to the list.\")\n",
        "  # método para adicionar um valor na lista.\n",
        "  elements.append(i)\n",
        "\n",
        "# agora que a lista está preenchida, podemos percorrê-la e mostrar cada elemento.\n",
        "for i in elements:\n",
        "  print(f\"Element was: {i}\")"
      ],
      "metadata": {
        "colab": {
          "base_uri": "https://localhost:8080/"
        },
        "id": "K2aXpkcb2Qjw",
        "outputId": "ea4300ba-1d83-4f33-d4ef-1bca0368dfd3"
      },
      "execution_count": null,
      "outputs": [
        {
          "output_type": "stream",
          "name": "stdout",
          "text": [
            "This is the count 1\n",
            "This is the count 2\n",
            "This is the count 3\n",
            "This is the count 4\n",
            "This is the count 5\n",
            "A fruit of type: apples\n",
            "A fruit of type: oranges\n",
            "A fruit of type: pears\n",
            "A fruit of type: apricots\n",
            "I got 1\n",
            "I got pennies\n",
            "I got 2\n",
            "I got dimes\n",
            "I got 3\n",
            "I got quarters\n",
            "Adding 0 to the list.\n",
            "Adding 1 to the list.\n",
            "Adding 2 to the list.\n",
            "Adding 3 to the list.\n",
            "Adding 4 to the list.\n",
            "Adding 5 to the list.\n",
            "Element was: 0\n",
            "Element was: 1\n",
            "Element was: 2\n",
            "Element was: 3\n",
            "Element was: 4\n",
            "Element was: 5\n"
          ]
        }
      ]
    },
    {
      "cell_type": "markdown",
      "source": [
        "### 3.2.1 - Novidades neste exercício\n",
        "\n",
        "  1. Demonstração de diferentes tipos de listas\n",
        "  Elas podem ficar vazias e não precisam necessariamente ser de um único tipo de elemento. Ex: só String ou só números inteiros.\n",
        "\n",
        "  2. Loop com for\n",
        "  O exercício mostra como faz um laço de repetição finito, seja pecorrendo valores da lista ou estabelecimento um valor máximo."
      ],
      "metadata": {
        "id": "VB4T7Lks2XzV"
      }
    },
    {
      "cell_type": "markdown",
      "source": [
        "### 3.2.2 - Erros que cometi neste exercício\n",
        "  \n",
        "  Erro por falta de atenção\n",
        "\n",
        "  ```\n",
        "  AttributeError                            Traceback (most recent call last)\n",
        "\n",
        "  <ipython-input-1-3143abf6b173> in <cell line: 0>()\n",
        "     18   print(f\"Adding {i} to the list.\")\n",
        "     19\n",
        "  ---> 20   elements.append(i)\n",
        "     21\n",
        "     22 for i in elements:\n",
        "\n",
        "  AttributeError: 'dict' object has no attribute 'append'\n",
        "  ```\n",
        "\n",
        "  Eu tinha colocado chaves ao invés de colchetes em elements = [].\n",
        "  \n",
        "  Ele não reconheceu como uma lista, por isso não rodou o método append."
      ],
      "metadata": {
        "id": "z2zj1N_82cZY"
      }
    },
    {
      "cell_type": "markdown",
      "source": [
        "## 3.3 - Exercício 17 - Loops While"
      ],
      "metadata": {
        "id": "nQt4bYno2O4t"
      }
    },
    {
      "cell_type": "code",
      "source": [
        "i = 0 # variável contadora do while\n",
        "numbers = [] # lista vazia\n",
        "\n",
        "while i < 6: # limitação da variável i pra indicar quantas vezes o loop ocorrerá\n",
        "  print(f\"At the top i is {i}\") # mostrando valor no início do loop\n",
        "  numbers.append(i)\n",
        "\n",
        "  i = i + 1 # incremento para evitar loop infinito (se não houver incremento vai continuar rodando)\n",
        "  print(\"Numbers now: \", numbers)\n",
        "  print(f\"At the bottom i is {i}\") # mostrando valor no final do loop após incremento\n",
        "\n",
        "print(\"The numbers: \")\n",
        "\n",
        "for num in numbers:\n",
        "  print(num) # mostra a lista resultante após finalização do loop"
      ],
      "metadata": {
        "colab": {
          "base_uri": "https://localhost:8080/"
        },
        "id": "xDVFAtrI2Rjm",
        "outputId": "fbdeeb29-1084-4635-b60d-38bcc0b425c1"
      },
      "execution_count": null,
      "outputs": [
        {
          "output_type": "stream",
          "name": "stdout",
          "text": [
            "At the top i is 0\n",
            "Numbers now:  [0]\n",
            "At the bottom i is 1\n",
            "At the top i is 1\n",
            "Numbers now:  [0, 1]\n",
            "At the bottom i is 2\n",
            "At the top i is 2\n",
            "Numbers now:  [0, 1, 2]\n",
            "At the bottom i is 3\n",
            "At the top i is 3\n",
            "Numbers now:  [0, 1, 2, 3]\n",
            "At the bottom i is 4\n",
            "At the top i is 4\n",
            "Numbers now:  [0, 1, 2, 3, 4]\n",
            "At the bottom i is 5\n",
            "At the top i is 5\n",
            "Numbers now:  [0, 1, 2, 3, 4, 5]\n",
            "At the bottom i is 6\n",
            "The numbers: \n",
            "0\n",
            "1\n",
            "2\n",
            "3\n",
            "4\n",
            "5\n"
          ]
        }
      ]
    },
    {
      "cell_type": "markdown",
      "source": [
        "### 3.3.1 - Novidades neste exercício\n",
        "\n",
        "  1. Demonstração do loop while com listas, que é um loop que não necessariamente possui um fim definido.\n",
        "\n",
        "  2. Para que ele seja devidamente utilizado, necessário estabelecer formas de pará-lo quando chegar um determinado parâmetro, seja um valor numérico ou mudança na variável (ex: valor deixa de ser true para ser false)."
      ],
      "metadata": {
        "id": "zUhtriaV2msy"
      }
    },
    {
      "cell_type": "markdown",
      "source": [
        "### 3.3.2 - Erros que cometi neste exercício\n",
        "\n",
        "Nenhum erro foi cometido na digitação ou execução deste exercício. Hooray!"
      ],
      "metadata": {
        "id": "wtMO3iSx2pIl"
      }
    },
    {
      "cell_type": "markdown",
      "source": [
        "## 3.4 - Exercício 18 - Nomes, Variáveis, Códigos, Funções"
      ],
      "metadata": {
        "id": "kLwI3xek3yj3"
      }
    },
    {
      "cell_type": "code",
      "source": [
        "# estabelendo as regras de cada função e os respectivos outputs quando executadas\n",
        "# isso não irá executar a função automaticamente, precisamos chamá-las em linhas separadas.\n",
        "\n",
        "def print_two(*args): # número variável de parâmetros\n",
        "  arg1, arg2 = args # estabelecido que são apenas dois argumentos\n",
        "  print(f\"arg1: {arg1}, arg2: {arg2}\") # imprimindo os dois argumentos\n",
        "\n",
        "def print_two_again(arg1, arg2): #número fixo de parâmetros - 2\n",
        "  print(f\"arg1: {arg1}, arg2: {arg2}\")\n",
        "\n",
        "def print_one(arg1): # número fixo de parâmetros - 1\n",
        "  print(f\"arg1: {arg1}\")\n",
        "\n",
        "def print_none(): # nenhum parâmetro\n",
        "  print(\"I got nothin'.\")\n",
        "\n",
        "# Comandos a serem de fato executados.\n",
        "# Necessário colocar os parâmetros caso tenham sido estabelecidos acima, senão não roda.\n",
        "\n",
        "print_two(\"Zed\", \"Shaw\")\n",
        "print_two_again(\"Zed\", \"Shaw\")\n",
        "print_one(\"First!\")\n",
        "print_none()\n",
        "\n",
        "# Obs: A linha 04 (variável para limitar argumentos) não é obrigatória. Veja exemplo abaixo.\n",
        "\n",
        "def print_o_rama(*args):\n",
        "  print(\"Here are the args:\", args) # vai mostrar todos como uma Tupla - (\"conteúdo\")\n",
        "\n",
        "# Exemplo alternativo com loop for para mostrar como texto, sem os parêntesis da Tupla\n",
        "# Neste exemplo são criadas variáveis para iteração com o for.\n",
        "\n",
        "def print_all(*args):\n",
        "  print(\"Here are more args:\")\n",
        "  for i, arg in enumerate(args): # enumera o total de argumentos e passa por cada um deles\n",
        "    print(f\"arg{i + 1}: {arg}\") # incrementando 1 no print pq o loop começa no zero.\n",
        "\n",
        "print_o_rama(9, \"lol so many things\", 192344, True, 1.2) # podemos colocar quantos valores e tipos quisermos\n",
        "print_all(\"Hello\", 12, False) # podemos colocar quantos valores e tipos quisermos\n"
      ],
      "metadata": {
        "colab": {
          "base_uri": "https://localhost:8080/"
        },
        "id": "ocitsm3A_sAS",
        "outputId": "c1f4ad07-bdfa-4e36-90b6-ee3dcc6859d7"
      },
      "execution_count": null,
      "outputs": [
        {
          "output_type": "stream",
          "name": "stdout",
          "text": [
            "arg1: Zed, arg2: Shaw\n",
            "arg1: Zed, arg2: Shaw\n",
            "arg1: First!\n",
            "I got nothin'.\n",
            "Here are the args: (9, 'lol so many things', 192344, True, 1.2)\n",
            "Here are more args:\n",
            "arg1: Hello\n",
            "arg2: 12\n",
            "arg3: False\n"
          ]
        }
      ]
    },
    {
      "cell_type": "markdown",
      "source": [
        "### 3.4.1 - Novidades neste exercício\n",
        "\n",
        "  1. Introdução a funções, que podem aceitar desde nenhum até um número dinâmico de argumentos.\n",
        "\n",
        "  2. Funções precisam ter duas etapas: planejamento (dizer o que fazer) e execução (chamá-las para executar alguma coisa)\n",
        "\n",
        "  3. Podemos limitar a quantidade de argumentos recebidos em uma função dinâmica.\n",
        "\n",
        "  4. No momento de chamarmos as funções para execução, necessário incluir dentro dos parêntesis o mesmo número original de argumentos definidos anteriormente na montagem da função."
      ],
      "metadata": {
        "id": "gTrEhQhf2njB"
      }
    },
    {
      "cell_type": "markdown",
      "source": [
        "### 3.4.2 - Erros que cometi neste exercício\n",
        "\n",
        "Nenhum erro foi cometido na digitação ou execução deste exercício. Hooray!"
      ],
      "metadata": {
        "id": "4DbysEgv2pJC"
      }
    },
    {
      "cell_type": "markdown",
      "source": [
        "## 3.5 - Exercício 19 - Funções e Variáveis"
      ],
      "metadata": {
        "id": "48zDJEnW4dL7"
      }
    },
    {
      "cell_type": "code",
      "source": [
        "# Função cheese and crackers, mostra a quantidade de itens de cada e retorna um texto\n",
        "def cheese_and_crackers(cheese_count, boxes_of_crackers):\n",
        "  print(f\"You have {cheese_count} cheeses!\")\n",
        "  print(f\"You have {boxes_of_crackers} boxes of crackers!\")\n",
        "  print(\"Man that's enough for a party!\")\n",
        "  print(\"Get a blanket.\\n\")\n",
        "\n",
        "print(\"We can just give the function numbers directly:\")\n",
        "cheese_and_crackers(20, 30) # valores aleatórios inseridos como parametro na execução da função\n",
        "\n",
        "print(\"OR, we can use variables from our script:\")\n",
        "amount_of_cheese = 10\n",
        "amount_of_crackers = 50\n",
        "\n",
        "cheese_and_crackers(amount_of_cheese, amount_of_crackers) # variaveis utilizdas como parametros\n",
        "\n",
        "print(\"We can even do math inside too: \")\n",
        "cheese_and_crackers(10 + 20, 5 + 6) # operações utilizadas como parametros.\n",
        "\n",
        "print(\"And we can combine the two, variables and math: \")\n",
        "cheese_and_crackers(amount_of_cheese + 100, amount_of_crackers + 1000) # mistura de variaveis e operações"
      ],
      "metadata": {
        "colab": {
          "base_uri": "https://localhost:8080/"
        },
        "id": "koZk0_Xm_srd",
        "outputId": "603ad3db-1a6c-4cbd-a679-ce1a80f609c2"
      },
      "execution_count": null,
      "outputs": [
        {
          "output_type": "stream",
          "name": "stdout",
          "text": [
            "We can just give the function numbers directly:\n",
            "You have 20 cheeses!\n",
            "You have 30 boxes of crackers!\n",
            "Man that's enough for a party!\n",
            "Get a blanket.\n",
            "\n",
            "OR, we can use variables from our script:\n",
            "You have 10 cheeses!\n",
            "You have 50 boxes of crackers!\n",
            "Man that's enough for a party!\n",
            "Get a blanket.\n",
            "\n",
            "We can even do math inside too: \n",
            "You have 30 cheeses!\n",
            "You have 11 boxes of crackers!\n",
            "Man that's enough for a party!\n",
            "Get a blanket.\n",
            "\n",
            "And we can combine the two, variables and math: \n",
            "You have 110 cheeses!\n",
            "You have 1050 boxes of crackers!\n",
            "Man that's enough for a party!\n",
            "Get a blanket.\n",
            "\n"
          ]
        }
      ]
    },
    {
      "cell_type": "markdown",
      "source": [
        "### 3.5.1 - Novidades neste exercício\n",
        "\n",
        "  1. Demonstração de outros exemplos de funções que podem receber tanto variáveis fora da função, como valores diretamente registrados nos parâmetros, como operações. Não é necessário que os parâmetros tenha o mesmo estilo ou tipo."
      ],
      "metadata": {
        "id": "TCI2cO5-2n73"
      }
    },
    {
      "cell_type": "markdown",
      "source": [
        "### 3.5.2 - Erros que cometi neste exercício\n",
        "\n",
        "Nenhum erro foi cometido na digitação ou execução deste exercício. Hooray!"
      ],
      "metadata": {
        "id": "RKu6ZDld2pVw"
      }
    },
    {
      "cell_type": "markdown",
      "source": [
        "## 3.6 - Exercício 20 - As funções podem retornar algo"
      ],
      "metadata": {
        "id": "mc8gIrKI4gQj"
      }
    },
    {
      "cell_type": "code",
      "source": [
        "# Operações com função\n",
        "\n",
        "def add(a, b):\n",
        "  print(f\"ADDING {a} + {b}\")\n",
        "  return a + b # Adição\n",
        "\n",
        "def subtract (a, b):\n",
        "  print(f\"SUBTRACTING {a} - {b}\")\n",
        "  return a - b # Subtração\n",
        "\n",
        "def multiply (a, b):\n",
        "  print(f\"MULTIPLYING {a} * {b}\")\n",
        "  return a * b # Multiplicação\n",
        "\n",
        "def divide (a, b):\n",
        "  print(f\"DIVIDING {a} / {b}\")\n",
        "  return a / b # Divisão\n",
        "\n",
        "print(\"Let's do some math with just functions!\")\n",
        "\n",
        "#Execução das funções\n",
        "\n",
        "age = add (30, 5)\n",
        "height = subtract (78, 4)\n",
        "weight = multiply (90, 2)\n",
        "iq = divide (100, 2)\n",
        "\n",
        "print(f\"Age: {age}, Height: {height}, Weight: {weight}, IQ: {iq}\")\n",
        "\n",
        "# Uma charada para ponto extra, digite isso.\n",
        "\n",
        "print(\"Here is a puzzle.\")\n",
        "what = add(age, subtract(height, multiply(weight, divide (iq, 2))))\n",
        "print(\"That becomes:\", what ,\". Can you do it by hand?\")\n",
        "\n",
        "# O desafio representa operações \"encavaladas\".\n",
        "# Ele não considera ordem das operações PEMDAS pois as operações estão registradas em funções.\n",
        "# Considerando a ordem de execução dos parêntesis, de dentro para fora, o cálculo\n",
        "# funciona da seguinte forma:\n",
        "\n",
        "#  iq ............. (iq, 2) = ((100/2) / 2) = 25\n",
        "#  weight ......... ((90*2) * 25) = 180 * 25 = 4500\n",
        "#  height.......... ((78-4) - 4500) = 74 - 4500 = -4426\n",
        "#  age ............ ((30 + 5) + (-4426)) = 35 - 4426 = -4391\n",
        "\n",
        "# Obs: Professor, você confundiu height com weight. weight é peso e height é altura.\n",
        "# Com esses números, temos uma pessoa anã que está com um grau sério de obesidade."
      ],
      "metadata": {
        "colab": {
          "base_uri": "https://localhost:8080/"
        },
        "id": "AsVyZYI3_t0k",
        "outputId": "f6d6c609-374e-4d86-db6c-81fa9f5ba546"
      },
      "execution_count": null,
      "outputs": [
        {
          "output_type": "stream",
          "name": "stdout",
          "text": [
            "Let's do some math with just functions!\n",
            "ADDING 30 + 5\n",
            "SUBTRACTING 78 - 4\n",
            "MULTIPLYING 90 * 2\n",
            "DIVIDING 100 / 2\n",
            "Age: 35, Height: 74, Weight: 180, IQ: 50.0\n",
            "Here is a puzzle.\n",
            "DIVIDING 50.0 / 2\n",
            "MULTIPLYING 180 * 25.0\n",
            "SUBTRACTING 74 - 4500.0\n",
            "ADDING 35 + -4426.0\n",
            "That becomes: -4391.0 . Can you do it by hand?\n"
          ]
        }
      ]
    },
    {
      "cell_type": "markdown",
      "source": [
        "### 3.6.1 - Novidades neste exercício\n",
        "\n",
        "  1. Demonstração de que as funções podem executar diversos comandos dentro de si e retornar os resultados dessa execução usando o comando return.\n",
        "\n",
        "  2. Os resultados, por sua vez, podem ser armazenados em outras variáveis."
      ],
      "metadata": {
        "id": "DRi5CNGt2n8P"
      }
    },
    {
      "cell_type": "markdown",
      "source": [
        "### 3.6.2 - Erros que cometi neste exercício\n",
        "\n",
        "Nenhum erro foi cometido na digitação ou execução deste exercício. Hooray!"
      ],
      "metadata": {
        "id": "InMDf4tY2pYk"
      }
    },
    {
      "cell_type": "markdown",
      "source": [
        "## 3.7 - Exercício 21 - Parâmetros, Descompactação e Variáveis"
      ],
      "metadata": {
        "id": "lVUOVCNE4mrT"
      }
    },
    {
      "cell_type": "code",
      "source": [
        "from sys import argv\n",
        "# Importa o módulo sys\n",
        "# Ele acessa argumentos passados na linha de comando\n",
        "script, first, second, third = argv\n",
        "\n",
        "# Imprime as informações (necessário informar valores para as variáveis)\n",
        "print(\"The script is called:\", script)\n",
        "print(\"Your first variable is:\", first)\n",
        "print(\"Your second variable is:\", second)\n",
        "print(\"Your third variable is:\", third)\n",
        "\n",
        "# O colab não possui suporte para rodar o código via terminal. Deste modo, a\n",
        "# forma de não gerar um erro ao rodar é remover um dos argumentos.\n",
        "# A remoção do terceiro argumento faz com que ele rode, mas o resultado não é compatível\n",
        "# com o que deveria ser entregue.\n",
        "# Abaixo, segue um print com a execução correta do que deveria aparecer no terminal via VSCode."
      ],
      "metadata": {
        "colab": {
          "base_uri": "https://localhost:8080/",
          "height": 216
        },
        "id": "3ZXF8CNJ_uUh",
        "outputId": "793bf2aa-a8a4-4bd6-83f1-bc3bfc087ddf"
      },
      "execution_count": null,
      "outputs": [
        {
          "output_type": "error",
          "ename": "ValueError",
          "evalue": "not enough values to unpack (expected 4, got 3)",
          "traceback": [
            "\u001b[0;31m---------------------------------------------------------------------------\u001b[0m",
            "\u001b[0;31mValueError\u001b[0m                                Traceback (most recent call last)",
            "\u001b[0;32m<ipython-input-34-cb20d9f9af27>\u001b[0m in \u001b[0;36m<cell line: 0>\u001b[0;34m()\u001b[0m\n\u001b[1;32m      1\u001b[0m \u001b[0;32mfrom\u001b[0m \u001b[0msys\u001b[0m \u001b[0;32mimport\u001b[0m \u001b[0margv\u001b[0m\u001b[0;34m\u001b[0m\u001b[0;34m\u001b[0m\u001b[0m\n\u001b[0;32m----> 2\u001b[0;31m \u001b[0mscript\u001b[0m\u001b[0;34m,\u001b[0m \u001b[0mfirst\u001b[0m\u001b[0;34m,\u001b[0m \u001b[0msecond\u001b[0m\u001b[0;34m,\u001b[0m \u001b[0mthird\u001b[0m \u001b[0;34m=\u001b[0m \u001b[0margv\u001b[0m\u001b[0;34m\u001b[0m\u001b[0;34m\u001b[0m\u001b[0m\n\u001b[0m\u001b[1;32m      3\u001b[0m \u001b[0;34m\u001b[0m\u001b[0m\n\u001b[1;32m      4\u001b[0m \u001b[0mprint\u001b[0m\u001b[0;34m(\u001b[0m\u001b[0;34m\"The script is called:\"\u001b[0m\u001b[0;34m,\u001b[0m \u001b[0mscript\u001b[0m\u001b[0;34m)\u001b[0m\u001b[0;34m\u001b[0m\u001b[0;34m\u001b[0m\u001b[0m\n\u001b[1;32m      5\u001b[0m \u001b[0mprint\u001b[0m\u001b[0;34m(\u001b[0m\u001b[0;34m\"Your first variable is:\"\u001b[0m\u001b[0;34m,\u001b[0m \u001b[0mfirst\u001b[0m\u001b[0;34m)\u001b[0m\u001b[0;34m\u001b[0m\u001b[0;34m\u001b[0m\u001b[0m\n",
            "\u001b[0;31mValueError\u001b[0m: not enough values to unpack (expected 4, got 3)"
          ]
        }
      ]
    },
    {
      "cell_type": "markdown",
      "source": [
        "![sdfsf.png](data:image/png;base64,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)"
      ],
      "metadata": {
        "id": "rb22nhqlXY_T"
      }
    },
    {
      "cell_type": "markdown",
      "source": [
        "### 3.7.1 - Novidades neste exercício\n",
        "\n",
        "  1. Lida com variáveis e comandos que podem ser inseridos diretamente no terminal."
      ],
      "metadata": {
        "id": "07H7CY2a2vr8"
      }
    },
    {
      "cell_type": "markdown",
      "source": [
        "### 3.7.2 - Erros que cometi neste exercício\n",
        "\n",
        "  1. Erro surgiu pois o código irá rodar apenas com o comando do terminal.\n",
        "\n",
        "```\n",
        "  ValueError                                Traceback (most recent call last)\n",
        "\n",
        "  <ipython-input-27-ab19ec0e9c82> in <cell line: 0>()\n",
        "       1 from sys import argv\n",
        "  ----> 2 script, first, second, third = argv\n",
        "       3\n",
        "       4 print(\"The script is called:\", script)\n",
        "       5 print(\"Your first variable is:\", first)\n",
        "\n",
        "  ValueError: not enough values to unpack (expected 4, got 3)\n",
        "\n",
        "```\n",
        "\n",
        "2. No terminal, tive dificuldade pra conseguir encontrar o caminho correto do arquivo, e tive que fazer algumas gambiarras.\n",
        "\n"
      ],
      "metadata": {
        "id": "kqeCeDej2xUO"
      }
    },
    {
      "cell_type": "markdown",
      "source": [
        "## 3.8 - Exercício 22 - Parâmetros, Descompactação e Variáveis"
      ],
      "metadata": {
        "id": "-APpJVmJ48Mz"
      }
    },
    {
      "cell_type": "code",
      "source": [
        "from sys import argv\n",
        "script, user_name = argv # recebe apenas o nome do script e o nome de usuário\n",
        "prompt = \"> \"\n",
        "\n",
        "print(f\"Hi {user_name}, I'm the {script} script.\")\n",
        "print(\"I'd like to ask you a few questions.\")\n",
        "print(f\"Do you like me {user_name}?\")\n",
        "likes = input(prompt)\n",
        "\n",
        "print(f\"Where do you live {user_name}?\")\n",
        "lives = input(prompt)\n",
        "\n",
        "print(\"What kind of computer do you have?\")\n",
        "computer = input(prompt)\n",
        "\n",
        "print(f\"\"\"\n",
        "      Alright, so you said {likes} about liking me.\n",
        "      You live in {lives}. Not sure where that is.\n",
        "      And you have a {computer} computer. Nice.\n",
        "\"\"\")\n",
        "\n",
        "# Ocorrerá o mesmo erro do exemplo anterior ao tentar rodar no colab (terminal é colab pago).\n",
        "# Segue exemplo do script rodando no terminal do VSCode."
      ],
      "metadata": {
        "colab": {
          "base_uri": "https://localhost:8080/",
          "height": 216
        },
        "id": "N4kznQDO_uqr",
        "outputId": "f6166502-1d43-4e90-a713-218618f17858"
      },
      "execution_count": null,
      "outputs": [
        {
          "output_type": "error",
          "ename": "ValueError",
          "evalue": "too many values to unpack (expected 2)",
          "traceback": [
            "\u001b[0;31m---------------------------------------------------------------------------\u001b[0m",
            "\u001b[0;31mValueError\u001b[0m                                Traceback (most recent call last)",
            "\u001b[0;32m<ipython-input-36-cb12064e02c1>\u001b[0m in \u001b[0;36m<cell line: 0>\u001b[0;34m()\u001b[0m\n\u001b[1;32m      1\u001b[0m \u001b[0;32mfrom\u001b[0m \u001b[0msys\u001b[0m \u001b[0;32mimport\u001b[0m \u001b[0margv\u001b[0m\u001b[0;34m\u001b[0m\u001b[0;34m\u001b[0m\u001b[0m\n\u001b[0;32m----> 2\u001b[0;31m \u001b[0mscript\u001b[0m\u001b[0;34m,\u001b[0m \u001b[0muser_name\u001b[0m \u001b[0;34m=\u001b[0m \u001b[0margv\u001b[0m\u001b[0;34m\u001b[0m\u001b[0;34m\u001b[0m\u001b[0m\n\u001b[0m\u001b[1;32m      3\u001b[0m \u001b[0mprompt\u001b[0m \u001b[0;34m=\u001b[0m \u001b[0;34m\"> \"\u001b[0m\u001b[0;34m\u001b[0m\u001b[0;34m\u001b[0m\u001b[0m\n\u001b[1;32m      4\u001b[0m \u001b[0;34m\u001b[0m\u001b[0m\n\u001b[1;32m      5\u001b[0m \u001b[0mprint\u001b[0m\u001b[0;34m(\u001b[0m\u001b[0;34mf\"Hi {user_name}, I'm the {script} script.\"\u001b[0m\u001b[0;34m)\u001b[0m\u001b[0;34m\u001b[0m\u001b[0;34m\u001b[0m\u001b[0m\n",
            "\u001b[0;31mValueError\u001b[0m: too many values to unpack (expected 2)"
          ]
        }
      ]
    },
    {
      "cell_type": "markdown",
      "source": [
        "![asdre.png](data:image/png;base64,iVBORw0KGgoAAAANSUhEUgAAAaoAAADdCAIAAABlvaFsAAAAAXNSR0IArs4c6QAAAARnQU1BAACxjwv8YQUAAAAJcEhZcwAADsMAAA7DAcdvqGQAACNvSURBVHhe7Z3LleQ6jobHkl7Nuv25dowB6Uafkybkakyo09vZtgPXkgFAEgRAkJLilYrQ/y1KJIgXKRIZGRGp+q9/gDfhf//zz3//q7YL//r3P//++59//+e//6cKzsvXz/8Zfr6q+Lp83IL89f0nTqPO8c/3X1VwOlD+AAAXBeUPAHBRUP4AABcF5Q8AcFFuK3/ynuZN72jyG6SFjXd7k3dSH4Sk8DDXz8szQot+4jeRb6K+N87r99f3z2JyN8y9+B5vjXclWo9b1hvyvAAPXuQHMi9/nLPZPK67ez6iKDjtHTXjzrIiNc5gwt9V/mhCft735dnXh9lYUQoVNbz9Hev1K9SSVyexzD6ZuzDZYCyerCYNmRGxn2jewiRPH/Qwd5r/NnsX+fXTvK387ULKjE7H/XTfUTN2qGzDToYFTYV7Ge7QfXnaVWVP68TGWIP93Ut2VpJ19gu2fvnYGe7gY0nyJO4M+uScz8Lrp3m4/MmeEzZOWrB3DHuke20LUFTYibARbAI72VhQivDzLdH/fH/Va2pgUmy09cjyNOqL3MMiua74DLYkc+l5+9YrWppBUxCHhe7ECBkemJibGRVz0suXbtAsJPFTzTRPEduuqIXlEVJzE6iJu8h5MeZM0d30aVz4PF3gQtU1I906+jxoPkJqlI3mL6rcMzahG4kpVYYlKfNW7aLajbtpkpKNUVlk9DhufPXH6a7zC+aeYG5+cPOIrGZZkLKwKjzKDkO5C5SLua4shuE8TzP7ZQ5Gj3G6LSNHiO/tW08s60Bx6V1zu4x2+y5LzMksuUeiR1rmyuLsbhanLX5jdt+bHrdrTkz1X2GHfayRm1td70WUjJuu2a1zn8HQECIwo8ik1P3PfO40z5CE23izMtahM5CnxDYxJsvKRhhy8k7SlGp7PpGnsC5/AT+DcVEsdloDC/M25FS2w+Ww3caCtiWP1wnDcJonaZl0Fy5pyE1sIzrhl8Lac7sY9xYhBjFQETopi2bmJkOmykhP1OLV0Ky78xndpw3no7te0Cxk5sFJyHIY1B6PsOYkJb5aucH7ZEJQERiNNjzzudM8w+diA1XpypjIUmLZaEOOutSHXfVM/I1UnsApXv1J38BDTmU7XA7bbSxoW/J4nTAMZ3nyxTNzGVZpR74+INsrapnMIYjESblUZyZ0Yk6Iboesml68jpo8ZOfZmPussIKxs93UZWYenCwjcK92uemmVTEGnIJgxxnvlAg+ShxHG0597jcf8Kmwd+mpmCQu04QhJfXiiEkafBKTlJYensTTyh9rTFXGBdBptyGnsh0uh+02FrQtebxOGIazPPeny1Pvmmy3w9Dk4O0byRyCYuvytaEmibkoqrDOr+nZa66Zr8jEp1UM3R5rsliZeQjePQghM7ZoVLXMpw/LIuuTCFFCN18Ph/N53FyZTb7KSbDTkUkpDx+TNHiDWUorD0/iaeWvWHQl98HcsACtxwOl41SGzrDdclh1Q7EtebxOGDymeUqKKl1gpi5taxT7nZ6jte/08Q5rNmGbhMu9MzOvqjI57jQ9e8018xVJNVkY87S0YKVpfPIGm5j3QCWO9ckS4yNbkK2UUqHJkxg0WJCE6jiLA+YyYpS53xTtREqGhHW7pmeRhvczdtgkFin1ABYJNnV9H8fKX8vFEBfBwUYVs24WMTdS+SiRhSxT365T1ZeBh0DT1Ws3LV6n2GQXeboEVtE7QUvG8llqHNYZVSZzMMGajYvfMkjN7bTrPWp64ZpoCjZW8T/RNIrj3PrcGaOqKWfmKvv5IntRNcELomyTJJrT0ac338rTzzXxkKTkfO4xN+LYr3Qxw5PykpFpSnagOCF3gzdvTrCHRUpmSGMV2VaitzEvfydmz337cLK9dhjeWGFHP3dZH5L1g7xkPHZBnpfnAcKULL+V3yKlV/Nu5Y9u2dN+FFwOXsy+D3lXPndbUoRz37lXL8gLmNYaP9dXgvIHzkH5adJ496P+AD5uQZJaU+f4az+JUP4AAOC3QfkDAFwUlD8AwEVB+QMAXJTbyt/qM7Gv5cfpYilEc3lDtluy4jt8wPsueTb6e/vvlLUQdggA97Iof71SFczGu738Fdj++eVvTyZ3817ljxf5JB+6LZjcuLBDALiXzVd/6fFenfk9RScrfwGUvyewY93PwEtuHAA3lr8RVlM29cMx7MZdaOPKj/06ZgLND7LLplCViythI0vjo2taxz2fLM8BHjRDvTumxD5V1XUS0jwnhBwYYy4jpOLdrOMb8xrf6ZtODCRYc5Y6dwVR7vJuS6RLRy2Vq3YMBADxmPJnj9VwfhLY6bAJvVDjsm91aAJtJzZkYk24vTgI6TM7uRVNdNTlmWFy7500JRcnC9rJny06IK494nNczyHcKr6dErUlutPXzhjIjgaaq4jX735KW4akYdyvA4GL84jy5zfXbO9a0u3ohSXuN50a4418G7OtSHGc+tY8TSJDFbkRTdI8c0zAllqWklMMnSXbmiEc901XklKZ9EqKk5n5eE0vTb45LVhVK2/MQjrXpGRtZWwSfRoIXJxTlz/BOFOZsowUMwn9NAklxGqKfOiE5inLc4ZGJC/FYZZSyMx1RjR+YaFJcPZGI9gSVP5IyCl9/TCkq7kO+MzaVJy0drJAZdackRMwYVUU5zooyVgeXUgDgYtz8ld/5X9OadLUbE7MhE+AMQ9dB4+pbRZWFbI8p1RPZFxVs5RCwCy6spmnJ4TLDSS7rx9ySyVQnw+V4M3JTBdEpbWTB7K4iTRXEecmzEW6eXSHCwQuzkPe++s7kbV3bK9sXwZhj2s2rLgfDGd0FxW79YdBR59RiTkEVfPuZ9fBIiX3jMk0JZMbjy+mvJmnx6gLYhNNSOmHfpun+DRMrwD3RC/B58mngSzGKnQMLO9O2HvTUgun4vUL3jf3dtw18KEsyl/ZGp3VJikbnVi+XBh9yu6cCpufolB6Tnlr3xrlegw00fVpdJb2Caydas7CLM8Z9tAWspQ0VPkvJOepZnnO4VBBw01KEhNJSdE0c8x9p2bVzJOfBFJcXmaI5V6TqMrj0rGmemqdeaAyspoh+GQ2X/2Bx9KrxIfxsRMDnwvK30vhlyv21ccHgfIH3g6UvxdRf0/73AqB8gfeDpQ/AMBFQfkDAFwUlD8AwEVB+QMAXJQ3K3/9G1zx81P5aKG/986KZ3snfp58gBUzlY//+ASAlzIvf/WsVU515LLycL7y1xfQJTKrbYa1ivjd8AAA2GZd/toh4/N4ogq4s4L8YsJ+wcxTqXYnv1L55ckB8CHsK39E7/ZXNaszeMDcnfYd1SHqcLfQhbZClIhlrOuuopCF/AkZp8h/t+VSraySDJN3hOSdT7cgulCjp5V/AMBOdpc/PpJ/6qWWFTm301Po7FsnNeeGarrOhFTHC7kngThyi2hzUoUM1mNFc2XdI+Y9lUBIPnteKTda1lmgZXAAwE52lz8pAVEYjrLHDLItH9fMPHhZuqykOl7Ivduflmry1esx8/kcFhNsQ05l6DCzyACA/Rx89RfOvDuaAzqqdSMzD17WLgupjhdyLxYKlSmL+iVD9nrMfD6HmHxwy0NOJXZmQQEAB9lb/uSQ/sSDvTznenJJqypl5qvTPiHV8ULuUaHgi0r3uC5QYnn522fuoka8G14CLWhtyKnsDwsAOMS+8sft0rHHlQ+mHt0crhsPfLpnJa0IXth9mpAs3HTOcNpsYq8HzOs8VHXxyS8r1p64l45TsR1RqZMBANzJuvwp9siZgX6MZ7CyP6+ZeTn5xMbTPVWvwZpTYYtbFErPKU8LCeUoY/G601ww80xsGZmmkbrnquoa2I4or8MCAPYyL3+PQQsHAACci+eWP34FpC9jAADgTDyr/NVf/fDKDwBwVp79yy8AAJwUlD8AwEVB+QMAXBSUPwDARfnU8ue+OgcAACMofw8AX24E4B1Zlj861u/6CgrlDwCwwfrV3/4/shLNSik7rgBpp1QK1W4Kxvxg0RpKD7tqAWnQOOWe8R66DjInr96cUUldFpN342D+AIDfYvuXXznxG2e6FJvaqTiZdmr9kDYLpYiYQqSyvQyhWVD+tX9sG+OETiQ110ZTaObkqskBAG/Drvf+5KyvDrgrBhWWqUg7XHTUk0hFZmyP1pJm3ez4OotupOswmTlZdNkBXwCAc7K//C1eKzFcHIRWCLIKklaK6t1wqJaQOet//TAUgiLMnyFo89DhhMw8pG5UkkkBAE7PY375NbC61IKsgqSVwineALnkd/nILZXAL/L253sWXZtiI4KczJxnZoxMN5kUAOD0bJQ/PuPHTjbXCi1/1ZS91FqRVQrWtIWlIyNbCZDLn295oCip0ytAccWW6tJ1OAP7BNaU1NwuBsvUh+sAAN6EZfnjwtJqwAo+/h1XNgTzENOs/BHOg1Eo8nUSolNsepNbLpHuw1axGTNztq24pCRwwckBAOdl13t/v8ieWnWQSQUGAFyME5e/8krr0ZWKveIFGgDg/K/+Hkj9xRWv/AAAwoXKHwAAWFD+AAAXBeUPAHBRUP4AABflaPnzX6F7FSf5rkr/dl9cAvlY5ckpzqMHZvcIn/0A4JiWv7HikOTi5a+QLcETyl8tVoTzu+MGrFXE7+tvIQDnY1X+wiEhCcof8YIl4BB9xn/JX/RV7i5/Zfw8ywnArzEtf8MZYkET6ysT1WB5pclKzdKBJk40JxjNXgw09PLVFmsZ7707mpcZcSt2JgSdnqUKp9HNjFZRgr1jyND4dDPSmY6eVv4BuA7b5Y/OilxJUJ+j184Zt0vLnCcvbKdPpalmij2j1BZNa8JtVRiw1tpJzbmhmq4zIdXxQhddh4yUZdO5O+tIiG5eGapPboz3qLMMDsB1mH/0QYeQzwifRTlvdGhmjxElHXMiq6FY6ikT1ZlmgovTFNmjMfc6ATPYwmTmwcvSZSXVCULTpWaZJIU3Gi2phJCnZ5FhG3IqQ4eZRQbgUmyVP3518fX9hw4Qn978aLVD1WnVJh6ziWaCi9NcBY9eJ6KjnLhoZebBy9plIdWJQu1TowRliWc2d8pznkQWyMBDTiV2ZkEBuB7z8idH5Uufo8fvJS3Kn8o6odowE80Er1ldhbqwLBPqgvMuSpl5PqMlqc4grAK61EXY47rAmlNV74bnoIvchpzK/rAAXI1l+ePngsrR4RLCzxGdHC2+jmeMjIaXGrlmRq9VYlNc2dPO4sG/hzOwTzZNzY0fHt9Ojw0GnVFIEnnOoUpZZd/cSyLGcPrJLyvWnriXjlOxHVHZWDMArsO6/OnZkvO49RB5pZwwssmOWqKZU4oRUZ9gXzRVaurDFFb2ITJzzcg8ljXDZc6wZiosSCznbffcXaJFMQ9kpD/f1G4paVjbEeV1WAAuxLz8fQJUQ3DaAQA5n1z++AWUe/EFAACdzyx/9TdHvPIDAMz57F9+AQBgCsofAOCioPwBAC4Kyh8A4KKcofy576kBAMBreET5K1+91QJ2+Mt2KH8AgF9gWf6okO0pS1y+2p/HESh/AIB3YP3qT17XbdYyKV/f+ndpvfzVr98xIhkKI1u28qfKWgklesGXVh1o4kQTAADWbP/yK2VpWVRK+SLFUtukRBVpK3ZSnuRPd70nFrTiVXS7Fcetyl7Y0lFpqgkAAGt2vfcn9WleVXiYyw+VoXqh8mdqEiM6TaOolML1wkeoAgCAYX/5c9XMoeWLGnSVAhTLUClV9C8Lv36YWuOMvSo+5xGqAABgeOAvv6X15/u7lT9rJd1S777kt2QqgeU5VvPylwSdlL9EEwAA1myUP65amy+mbAGi0vaH337zpqwhbS5/VB+pSSJ5girZuQLWOnwdy1pS/iaaAACwZln+uFjtKCuufHHVayVK2oU6LqWqjPamszcd0WgUo6z8EYkmAACs2fXeHwAAfB4ofwCAi4LyBwC4KCh/AICLgvIHALgoKH8AgIuC8gcAuChHy5/7jt6DYJ+TL+vZbxHuYvLFwB30Lyl+/hcHb1+lR/KMvUTUG/n5dxHczbT8jSeEJEe37L5jdobyx4GecBRv59aJ7OKpznfzpPJXkJ1zqjsKzseq/IXdQ5KXl7/D3Hiwn3oSb+LGiezjqc538+RFf+S2Ap/JtPwNe5MFTUzHp6AaLK/IljP9xnSns27bp8Uzq3YP3ZBkpLiMvvFiUW29Houn+TkSB4OIBPz4V+l/1eskec7cTaM8FTFQNcxIsyF35FQHlnNwjqfJp7CW8d27o3mZBLdiJ1IG1YMzqhSf0+hGM4kSzACIbJc/2kRyJUF9Nl/bldxuLX6KgdCFBNlqe46a8H4N+jzWt3Ae3W7zZUSbm7ha1ZqMSYLBp6iFa1g6GeJALNSAtsM2PlIzIXpQCVHlXZphzNW5teB2TyVirbWTmnNDNV0nIibVQXeV7SUXXX0aaTfvZDIALPOPPuoR4T0mm4x20+zRpA4rrD42KPv0mwKNyj5EFt1rrCKa48JYwzCUwwbReeZTk7DXkHwZC8KQkY9FAhPIuO56PoIjCV7urdFfmLtBGzuaBy97XU40VWhGqVkmTOGNQUuKYW1GBQCkbJU//llMv7/RPuPdFnZp77QNV2kadk/OUeNE18VLo3uNVcQwZg1pyDiZkCllPlVor3Eq4iyfkRAcy5jHhdhiCM5WwdjrRHSUrIpWZh68LF1ONLll6EJpUaMEDWqEJqM6ACyZlz/ZQ1/6bD5+j2a2uWnI7T3VCAdkAluQGl+674qLl0b3GquInKbxb7thKMdHKmQ++V9Jwl6juYzlMxKabSMLTkS1GUnw4dVf6EaqC9KqSpn5YkYDqSZ70RkZjdqkSx111gDcwrL86X9fyVuen00aNl3rmHPAon4oxMfm6exabu8LLp7vtU6PzpLowGLd96CMmcEC8R/UMp8kE5G99nwZtTJpsGyxdFnwHmIT9l6sxZEmpuZDwBEORqhSam788PhiXVlTB1un5ykityDyQZKzSJ3LwMZUACDW5U+3l2zk+auVoivIR559U9qRZKcKrGNPEUVyhgU2Z+EYvR4z0SHhcuOrqs/HHLo1Nq0WaPBJAhmz1zCjnqSKy6fEPQujX4WJhxZiB5qmWyWV7lkAVvbhMvPpjAKs54ykYyYZ9pLEct6MrklMpHtXBVyZefkDD8ad9veEChDKCvgcUP5extuXP3719eb1GwALyt/LeOPyV3/FxSs/8Fmg/AEALgrKHwDgoqD8AQAuCsofAOCivFn561/0wkeQAID7eFz5K5XpJR8OfsA36AAAv86y/H3pn3duQyVJvuT/ivqH8gcAuJ/1qz95RberoNWKJEVwS71+i4xpyoloImT2lb/RvGSncnUh0yygqgJwGbZ/+ZVqsVUVtCCRti9VEXYXNNi4iaQSsadUWNFoc6Y+W/SuwBlVb9YKAPDh7HrvT8rGqiywQq0g6/qX1RdTfhjxlQq163sZqU9v1zqkajTX6QMAPoj95c/VE48rK8sCEsqSEAxKqcqEaud7GalPb1c7fPGg/AFwDR7xy++BCuIKUCWUROmmQu1mXjypT29XO9u+AACfyUb547qx+WqIlOJLrWX9i+XGBlHjVFjZUbJSc2fXOnxFAQTggizLH9WQHXUhVD9TbnKk3lSaGlerSo84Cq2psEovN1cL03FuF5kDAD6JXe/9AQDA54HyBwC4KCh/AICLgvIHALgoKH8AgIuC8gcAuCgofwCAi4LyBwC4KCh/AICLgvIHALgoKH8AgIuC8gcAuCgofwCAi4LyBwC4KCh/AICLgvIHALgoKH8AgIuC8gcAuCgofwCAi4LyBwC4KCh/AICLgvIHALgoKH8AgIuC8gcAuChvVv76f0i++g/OFfmfzjf+33L3f5+DxmrpaOyt/jP4d7nFr8tzfo7CfWfF+S7YPFxn59zlr9ylYYl3b5O7yt+7HfLHslq6d1uZ3fvlEdyxOA/I81D0LF6476wy3wUof8+E1v7P9xf/49f4odt56uzdDvnreLeVeeh+2eKOxXlAnoei74jHKh98Cs5c/urdoUu4AeG2lVvOQqGMaNffYNK1/GnOVM7a3VZxTvZgfaixib7YU6xl4vXuaF6S51bsJKQpGWFLqYucN2u+PhJjIJaMedJ8xhvnzF0C2xSHtcOwqxZQV6/Ftt5D10Hm5NWbMyqpy2HybqzyN+o16SxPJgZqmjLYOgejM86LTagLWdaWtKTBYxPNrVVimrMAaf18i1d5wdMVeyib6qM4cfnjicuMaWn8oulIoS6wSHjIKCeapSurqhZtsZ31EPYAIa5gnffwGT1N00nNXRzXGUhH//r+aVO0/pmgb3Nar0wWyMm0wz6HG2cCqWwvQ2gWlH+HW2wn5DuR1FwbTaGZrxdHyVbeBtKU0kDc0HxtZ2f0gvPS8ELuiUNOJ3geNcdz1BdWxodoDdbjUXNlB93c+Hwg5y1/ZnHrWihmiOE10nE/5ntmMftqOhXbiVGPwH5MYMYGJ3xmATPYssjMg5elSxldDA/mC9frlckC5c54Tv7GiczYriONNOtmx9dZdCNdh8nMyaLLDvhKadYuUAmRBgqatnMouo9X8ULu/fn+tjdKGTWHlGz2xdUkt5a3vcq/PYCOPZDTlj+3mmHift1Xy+I1uVe7/V44Fdu5c7XJvFCdrOcQ0FGyKlqZ+SL5lJgSwTYGY75wHXIZGQLlzhI/IR9iHSlA5qz/9cNQCIowXyWbhw4nZOYhdaOSTCqFTQxs7QKVXhooaNrO3uiCj1fxQu4JiddRc0hJzIuUm/PUWt72Wqwd++e2j7OWv+XM2+JWFrd81FSaiVOxnYXbI3BM9sPXkIrpRmoipFWVMvNF8kvYWKamDSaYL1yT2b6VUf+5s8RPSOIw5JLfPSO3VAL5/bA/3/Op1KbYiCAnM+eZGSPTTSaVwAaq1gK4QMVRGihPSdgXveLjVbyQe+SQL4PqqKk97XC+jVViLW97DQGewVnLX7iNvBC9H5Yl6Frye+KYqnB79MvS9Z0MqBtKU+1y3w6eFaFKqbnxw+PjFk1xKVULljlzFvRu1yyKPa8VGkgbLk9qDn7EvUmjsyswufyh39VIidTpFaC4Ykt16TqcgV3klNScp9HsWKY+XGcKm1efbFA6NpC6SQOZIDzeV8wMbGPjKV7Y/dk8CqOm9mrHa6wg7+LcXoub3IGM7J/pjJOWv7YKCk+3TdogSzMoE1NNi1ixpq6w61gnUdj7GT561zXx1w4YVvbzysw1VPnEbOo2T8nOkD94Y7nXJIqyBq8vqmYbLw+U5kkuMz/Og1EocvWYIjrFpje55RLpPsZFHpmZZ7eDkcAFJ3dYpXTlTVaH7vue6C4QM0RnmrBlUhRaVbI0TQ2oHZM6M13qthXi1cfq5jWXmbu9nPejj8fjblDp3rJ+fEfvXvcd6A4AlSesPBb5mTzoxD2PK5U/Pj39ZsjPD3Nv9sAeXlP7QrKX5zkrj0V+LvefuCdzpfLXDlHjpBu/JokXJc8Ei/waTn7irlX+AABAQfkDAFwUlD8AwEVB+QMAXJRrlT/57Cl9E1beon3wG+HP8LmH8HUDcCe/u57Pi/5b+/NEnLP8jR+R86161J3KNtSZyp/MvmdIbo45+dXjejD5w5P7BV66nsOCHIt+ZD1JF+XvnPBN73fG9+7lpdv5BmS2f/60FA9XiF+d38HkD0/uF3jpeg4Lciz6O6zniTjvL790I9ttN01pV+p9dvtjz2YJOtwtqNAGJHq3666jJD5ZRhlr/nN7ye9b/7CMLHqrIZI+UmHLap88NbMnpbLiQQeaONHciwTfk7yJ0VjFsupFTyI1C+3cM6OebIWtmm/N38WsNNk90Y1Sg5V3RD++nl3Z6Vgfc+MP4sTv/fG94BvbrkbU2nKPuOE2xdaNS3W8kHfb6NNIWdYymeJ9cq/V7KV5NZPnllBXjpQ3EVflAb/dP8GCOjoESpOvp0rkKj06TQdb7Epe2mV823/16nAy7dwzoyEKC8q/L1tPUvYKefTZc2oH8xVsaeYbulfg1B99yP346ZvH7CNGhsNd23MLU50gNF1qlh1F4Y3Gjo3mfbpeCOdoYzWeBMrn3jJqufB1EqipFoxBn0XxOdHcy+7kS3ene7awHhjjxXQ41M0zaopNha+TQLlPut4eXRjG0+gOK9xy7wjeuDt6/2hOXf7Kdup3JNxbuXvhJoY7mpLqRKH2qVGCssSztdG8T9fzQx4dowZdZdb53OlfFu54uidfPOIteGUmmnvR4NRYJl8STBKYQJo+HePFdO6aEWny0G+u5+Ahi15bhqaRJDDHuRbIvLDfyVtz8vLHN6jfCb455nZJd7o/5qQ6g7AK6FIT2OPa4y1cb+Wsj1FLnjQ+voCqc6fLvqd7OlmH7ONGn2jupZtTa5V86SYJbMDGYuIS1c59MyLrX17PwUMWvS+CFTJJAnPmqTn/H8xblT93V3TI6PC4O2gp6V0fhSSRZ6mplFU2nVu8T9cbw3XsGB3FPzy9ydxJuPPpnnwdI5J986nkmoyMjAYOG3wj+aGzC7Uwpua+H5tR5LXrmcHazkUanSdcheJeNQbzFc61w7spIXa7fSPeq/wRZacLblMIhx75SbBmKixILOfNKc/3wzSQOnOdgBuTHGqkce4SqIz25iyQaDSKEXnMZpFodnFm0HHB18kXTCwnt7h8/NyE2x+hGhC1Mtyb3HIxayfxeV/0glHmQHl0q9SelloI5ilGp9ACdaxtGdnK+x05efkDAIBngfIHALgoKH8AgIuC8gcAuCgofwCAi4LyBwC4KCh/AICL8mnlb/LFq+fB34mafr/q0+lfFbvsErwI+w1K8DDOXf6Of98S5a/ywq+qXuEnwCv2VbllupIuJMrfUzh1+aP9IN/nP3DbUf4KNyzdzaD8PQZex3secwsOc+byV4+VnOSyDUpTfhIyeuZYU5nuGbYzx7R31aEa19AF14mUwWVKxec0utGcRikMPqfUlOmyoUiMs89EEyFTg20wmpfsVK4uzDQ33e5JngTyh2Hc5z+O4+skuptK6ZhsGlUjyZPckVMd2EzfIfHGJ8X2MMHdMNE0JbDgxOVPdgPfw7YP2t0tHW6XFm8Dv/9Ke8Aqaqf7qf6bUDVdJyImQ0rZ0yhddPVppN08ZfaEywTrfaVXwgcN65zb4ikVVjTanKnP5d20Vhk7k2e1cK1P8VPzFpSFNbjvsI2P1EyIHlRCVHmX7qTGc0+KVXOXGcGRovc0JbDgvOXP3G/dCG4P1I7fF37PRBKfZsswopEHytnWVKEZpWZJk8Ibg3X2hjSQYka31yMOpwuSCbW7ToZJfXq71iFVo7lKny32Ji969hqil7FJSkyzVUiQ5EnXrucjbNP0q2sf0jvjns+HyFMCC05b/tztbrfSCWvH74uNm67KulWCgSjkgXImmtwydKG0qFGCBjVikX3qM0HDMMsFocHBTbogmVDtfC9j/yLzxTPN/nDy9hqzFmd5SkJwPMszqh1C41GDrt6Xy6ykq73CJCWw4KzlL7uXYQ/UzrAvlje9apNatQkbSbp5oJxUk71oGkajNulSR531mpnPAR7zTFckc5MuSCbU7vYkUp/erna2fSlHkpcVsNdoLmN5SkKzbUzyjGqH6D6pVZ8Uq758wCz8JCWw4KzlL+wjvrWL/3WhClmy+TOPPROqxOatJ2G4rY0y7s6UZyOlmlPToJ68/e4s5s4tU58RnqBZAla2fUcWPl2QVFjh/sYUUnNn1zp83fJWyVSzQG1B7NVHV6tmUmXdvRkoZMF7iAFRn4w1fEblSbGqbweJLHyeErMn+iU5afkbthHfwLAHeqfsVKI+n3x9l3WvK2pvdk/ZMYR5lGZGnpJak0f/NEqJ5bwZ3eUWnft0pEu3z62qZQuSCF3mzCQlITdXC9NxbheZE7uSbytir9MoKo733ejP82whBopuPtZgHY0ns2gvSB1NxQ40x0lKXbyOfknO+9HH05huUXAlXLEB1+Ry5Y9/qmLXA5Q/cKnyJ79O4FcAUED5A1f85RcAABiUPwDARUH5AwBcFJQ/AMBFQfkDAFwUlD8AwEVB+QMAXBSUPwDARUH5AwBcFJQ/AMBFQfkDAFwUlD8AwEVB+QMAXBSUPwDARUH5AwBcFJQ/AMAl+cc//h9rdPzYtn3IgwAAAABJRU5ErkJggg==)"
      ],
      "metadata": {
        "id": "bWKhiec8c66P"
      }
    },
    {
      "cell_type": "markdown",
      "source": [
        "\n",
        "### 3.7.1 - Novidades neste exercício\n",
        "\n",
        "  1. Lida com variáveis e comandos que podem ser inseridos diretamente no terminal, possibilitando resultados dinâmicos."
      ],
      "metadata": {
        "id": "75gya5bf5Lkv"
      }
    },
    {
      "cell_type": "markdown",
      "source": [
        "### 3.7.2 - Erros que cometi neste exercício\n",
        "\n",
        "  1. Mesmos erros que no 3.7.2\n",
        "\n",
        "  2. Não é necessariamente um erro, mas não me preocupei em deixar um nome bonitinho do script e como estava cansada na hora de testar esse código, também não mudei o endereço de referência do arquivo no terminal - optei por referenciar diretamente o caminho."
      ],
      "metadata": {
        "id": "8uNfOplP5Oo7"
      }
    }
  ]
}