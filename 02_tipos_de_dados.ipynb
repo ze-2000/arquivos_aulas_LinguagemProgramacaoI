{
  "nbformat": 4,
  "nbformat_minor": 0,
  "metadata": {
    "colab": {
      "provenance": [],
      "toc_visible": true,
      "include_colab_link": true
    },
    "kernelspec": {
      "name": "python3",
      "display_name": "Python 3"
    },
    "language_info": {
      "name": "python"
    }
  },
  "cells": [
    {
      "cell_type": "markdown",
      "metadata": {
        "id": "view-in-github",
        "colab_type": "text"
      },
      "source": [
        "<a href=\"https://colab.research.google.com/github/ze-2000/arquivos_aulas_LinguagemProgramacaoI/blob/main/02_tipos_de_dados.ipynb\" target=\"_parent\"><img src=\"https://colab.research.google.com/assets/colab-badge.svg\" alt=\"Open In Colab\"/></a>"
      ]
    },
    {
      "cell_type": "markdown",
      "source": [
        "# Aula 02 - Tipos de dados"
      ],
      "metadata": {
        "id": "A8lE86aZ8svM"
      }
    },
    {
      "cell_type": "code",
      "source": [],
      "metadata": {
        "id": "Yx4E3z4GpVR0"
      },
      "execution_count": null,
      "outputs": []
    },
    {
      "cell_type": "markdown",
      "source": [
        "# 1. Fundamento da Linguagem Python\n",
        "\n",
        "* Saber um pouco mais sobre a linguagem Python e como configurá-la no seu computador;\n",
        "\n",
        "* Entender o que são expressões aritméticas, expressões lógicas e operações;\n",
        "\n",
        "* Compreender o que são variáveis e como usá-las;\n",
        "\n",
        "* Saber o que são strings e como usá-las."
      ],
      "metadata": {
        "id": "wPHSV2AJ_DWc"
      }
    },
    {
      "cell_type": "markdown",
      "source": [
        "## 1.1 Instruções\n",
        "\n",
        "Utilizar a patir desta aula:\n",
        "\n",
        "1. Volte para o código e escreva um comentário sobre o que cada linha faz.\n",
        "\n",
        "2. Após cada código, você irá escrever quais são os novos comandos que aparecem no exercício\n",
        "\n",
        "3. Verifique seus erros, leia cada uma de trás para frente ou em voz alta para encontrar seus erros.\n",
        "\n",
        "4. De agora em diante, quando cometer erros, anote o seu erro após o código.\n",
        "\n",
        "5. Quando for para o próximo exercício, veja os erros cometidos e tente não errar no novo exercício."
      ],
      "metadata": {
        "id": "I68F9EHt6R0A"
      }
    },
    {
      "cell_type": "markdown",
      "source": [
        "## 1.2 Exercício 5 - Mais variáveis e Impressão\n",
        "\n",
        "Concatenação de variáveis mais texto, uma forma de usar a saída de dados com variáveis;\n",
        "\n"
      ],
      "metadata": {
        "id": "n8HxzFJ6_8SQ"
      }
    },
    {
      "cell_type": "code",
      "source": [
        "#Variáveis\n",
        "Name = 'Zed. A Shaw'\n",
        "Age = 35 #não é mentira\n",
        "Height = 74 #polegadas\n",
        "Weight = 180 #libras\n",
        "Eyes = 'Blue'\n",
        "Teeth = 'White'\n",
        "Hair = 'Brown'\n",
        "\n",
        "#Printf representa uma formatação de variável dentro do texto, com chaves {}.\n",
        "print(f\"Let's talk about {Name}.\")\n",
        "print(f\"He's {Height} inches tall.\")\n",
        "print(f\"He's {Weight} pounds heavy.\")\n",
        "print(f\"Actually, that's not too heavy.\")\n",
        "print(f\"He's got {Eyes} eyes and {Hair} hair.\")\n",
        "print(f\"His teeth are usually {Teeth} depending on the coffee.\")\n",
        "\n",
        "# Soma dos valores e representação com printf\n",
        "total = Age + Height + Weight\n",
        "print(f\"If I add {Age}, {Height} and my {Weight} I get {total}.\")"
      ],
      "metadata": {
        "colab": {
          "base_uri": "https://localhost:8080/"
        },
        "id": "c7OlbfmkBTjR",
        "outputId": "fc84235f-b3c7-4ab1-c718-e6723f6d1f06"
      },
      "execution_count": null,
      "outputs": [
        {
          "output_type": "stream",
          "name": "stdout",
          "text": [
            "Let's talk about Zed. A Shaw.\n",
            "He's 74 inches tall.\n",
            "He's 180 pounds heavy.\n",
            "Actually, that's not too heavy.\n",
            "He's got Blue eyes and Brown hair.\n",
            "His teeth are usually White depending on the coffee.\n",
            "If I add 35, 74 and my 180 I get 289.\n"
          ]
        }
      ]
    },
    {
      "cell_type": "markdown",
      "source": [
        "### 1.2.1 Novidades neste exercício\n",
        "\n",
        "1. O printf - `print(f\"If I add {Age}, {Height} and my {Weight} I get {total}.\")` - é um tipo de formatação diferente do print, pois ele permite que você insira os valores das variáveis sem precisar quebrar o texto ou concatená-lo, ou seja, consegue embutir a variável dentro da string.\n",
        "\n",
        "2. No final do código, há uma soma com as variáveis numéricas, que é atribuída na variável `total`, permitindo que a última frase fique completa com a altura, o peso, a idade e o somatório dos itens."
      ],
      "metadata": {
        "id": "5TQ81Pm6AYpK"
      }
    },
    {
      "cell_type": "markdown",
      "source": [
        "### 1.2.2 Erros que cometi neste exercício\n",
        "\n",
        "Nenhum erro foi cometido na digitação e execução do exercício. Hooray!"
      ],
      "metadata": {
        "id": "DPLBb5V5BBXD"
      }
    },
    {
      "cell_type": "markdown",
      "source": [
        "## 1.3 Exercício 6 - Strings e Texto\n",
        "\n",
        "Algumas variáveis um pouco complexas e um pouco de trabalho com Strings dentro de Strings;\n",
        "\n"
      ],
      "metadata": {
        "id": "rNOXmwETFXZN"
      }
    },
    {
      "cell_type": "code",
      "source": [
        "# atribuição de inteiro em variável\n",
        "type_of_people = 10\n",
        "#atribuição de string com variável embutida\n",
        "x = f\"There are {type_of_people} type of people.\"\n",
        "#atribuição de valor textual a uma variável\n",
        "binary = \"binary\"\n",
        "#atribuição de valor textual a uma variável\n",
        "do_not = \"don't\"\n",
        "#atribuição de string com variável embutida\n",
        "y = f\"Those who know {binary} and those who {do_not}.\"\n",
        "\n",
        "print(x) #imprime o valor da variável\n",
        "print(y) #imprime o valor da variável\n",
        "\n",
        "print(f\"I said: {x}\") #imprime o texto com uma variável embutida\n",
        "print(f\"I also said: '{y}'\") # imprime o texto com uma variável embutida\n",
        "\n",
        "hilarious = False #criação de variável com valor booleano (PRECISA SER F MAIÚSCULO)\n",
        "joke_evaluation = \"Isn't that joke so funny?! {}\" # criação de variável com texto e espaço pra embutir uma variável sem definí-la\n",
        "\n",
        "print(joke_evaluation.format(hilarious)) #uma forma de imprimir a variável textual com uma variável embutida, que eu posso escolher\n",
        "\n",
        "w = \"This is a left side of...\" #criação de uma variável com valor textual\n",
        "e = \"a string with a right side.\" #criação de variável com valor textual\n",
        "\n",
        "print( w + e ) # concatena os valores textuais armazenado nas variáveis\n"
      ],
      "metadata": {
        "colab": {
          "base_uri": "https://localhost:8080/",
          "height": 214
        },
        "id": "I2qdXzmzFic2",
        "outputId": "ea56b02b-de94-4f98-8a4d-28080d0d0f9c"
      },
      "execution_count": null,
      "outputs": [
        {
          "output_type": "stream",
          "name": "stdout",
          "text": [
            "There are 10 type of people.\n",
            "Those who know binary and those who don't.\n",
            "I said: There are 10 type of people.\n",
            "I also said: 'Those who know binary and those who don't.'\n",
            "Isn't that joke so funny?! False\n",
            "This is a left side of...a string with a right side.\n"
          ]
        },
        {
          "output_type": "execute_result",
          "data": {
            "text/plain": [
              "'Obs: \\'A frase print(joke_evaluation.format(hilarious))\\' também aceita múltiplas\\nvariáveis, mas ele está condicionado com a estruturação da linha anterior\\n\\'joke_evaluation = \"Isn\\'t that joke so funny?! {}\"\\'. Assim, para adicionar mais\\nvariáveis, é necessário adicionar múltiplas chaves de espaço: {} {} {} e no momento\\nde colocar o valor no parêntesis, colocar como (hilarious, x, y)'"
            ],
            "application/vnd.google.colaboratory.intrinsic+json": {
              "type": "string"
            }
          },
          "metadata": {},
          "execution_count": 1
        }
      ]
    },
    {
      "cell_type": "markdown",
      "source": [
        "### 1.3.1 Novidades neste exercício\n",
        "\n",
        "1. Demonstração de variável booleana\n",
        "\n",
        "  `hilarious = False`;\n",
        "\n",
        "2. Variável embutida:\n",
        "  \n",
        "  A frase\n",
        "\n",
        "  `print(joke_evaluation.format(hilarious))`\n",
        "  \n",
        "  também aceita múltiplas variáveis, mas ele está condicionado com a estruturação da linha anterior\n",
        "\n",
        "  `joke_evaluation = \"Isn't that joke so funny?! {}\"`.\n",
        "\n",
        "  Assim, para adicionar mais\n",
        "  variáveis, é necessário adicionar múltiplas chaves de espaço: `{} {} {}` e, no momento de colocar o valor no parêntesis, colocar como `(hilarious, x, y)`."
      ],
      "metadata": {
        "id": "p4JhOM-qKi6g"
      }
    },
    {
      "cell_type": "markdown",
      "source": [
        "### 1.3.2 Erros que cometi neste exercício\n",
        "\n",
        "Nenhum erro foi cometido na digitação e execução do exercício. Hooray!"
      ],
      "metadata": {
        "id": "iT34STvbF_xU"
      }
    },
    {
      "cell_type": "markdown",
      "source": [
        "## 1.4 Exercício 7 - Mais impressão\n",
        "\n",
        "Apenas para práticas a digitação e alguns conceitos sobre impressão de strings"
      ],
      "metadata": {
        "id": "c90yara6OiCH"
      }
    },
    {
      "cell_type": "code",
      "source": [
        "print(\"Mary had a little lamb.\") #imprime um texto fixo\n",
        "print(\"Its fleece was white as {}.\".format('snow')) #imprime um texto com espaço para mudar algo\n",
        "print(\"And everywhere that Mary went.\") # imprime um texto fixo\n",
        "print(\".\" * 10) #imprime o ponto 10 vezes\n",
        "\n",
        "end1 = \"C\" #armazena dados textuais em variáveis\n",
        "end2 = \"h\"\n",
        "end3 = \"e\"\n",
        "end4 = \"e\"\n",
        "end5 = \"s\"\n",
        "end6 = \"e\"\n",
        "end7 = \"B\"\n",
        "end8 = \"u\"\n",
        "end9 = \"r\"\n",
        "end10 = \"g\"\n",
        "end11 = \"e\"\n",
        "end12 = \"r\"\n",
        "\n",
        "#Olhe aquela vírgula no fim. Tente removê-la para ver o que acontece\n",
        "\n",
        "print(end1 + end2 + end3 + end4 + end5 + end6, end='') #concatena os valores das variáveis e o final permite que se conecte com a próxima impressão sem quebra de linha\n",
        "print(end7 + end8 + end9 + end10 + end11 + end12) #imprimir sem quebra de linha"
      ],
      "metadata": {
        "colab": {
          "base_uri": "https://localhost:8080/"
        },
        "id": "FM_TKK4DPAHA",
        "outputId": "75ae71ab-12b6-4d24-827f-1df855a762e8"
      },
      "execution_count": null,
      "outputs": [
        {
          "output_type": "stream",
          "name": "stdout",
          "text": [
            "Mary had a little lamb.\n",
            "Its fleece was white as snow.\n",
            "And everywhere that Mary went.\n",
            "..........\n",
            "CheeseBurger\n"
          ]
        }
      ]
    },
    {
      "cell_type": "markdown",
      "source": [
        "### 1.4.1 Novidades neste exercício\n",
        "\n",
        "1. Operações com strings\n",
        "\n",
        "  Strings podem ser multiplicadas, e os caracteres multiplicados aparecerão na quantidade especificada.\n",
        "\n",
        "2. Evitar quebra de linha com `, end=''`\n",
        "\n",
        "  Remover apenas a vírgula mencionada dá erro no código. Se remover tudo o que está após a vírgula, o código roda.\n",
        "\n",
        "  Se imprimirmos sem o end, as palavras são mostradas uma embaixo da outra:\n",
        "\n",
        "  `Cheese`\n",
        "\n",
        "  `Burger`.\n",
        "\n",
        "  Se imprimirmos com o end, as palavras são mostradas juntas.\n",
        "\n",
        "  `CheeseBurger`\n",
        "\n",
        "  Então o end funciona como um conector (especificamente se conecta com nada `''`) pra continuar a impressão sem quebra de linha."
      ],
      "metadata": {
        "id": "Cuqmsp05RKn8"
      }
    },
    {
      "cell_type": "markdown",
      "source": [
        "### 1.4.2 Erros que cometi neste exercício\n",
        "\n",
        "Nenhum erro foi cometido na digitação e execução do exercício. Hooray!"
      ],
      "metadata": {
        "id": "cxW0EONqVh35"
      }
    },
    {
      "cell_type": "markdown",
      "source": [
        "## 1.5 Exercício 8 - Imprimindo, imprimindo\n",
        "\n",
        "Formatação de strings de forma mais complexa"
      ],
      "metadata": {
        "id": "soSPJ_hVVyqd"
      }
    },
    {
      "cell_type": "code",
      "source": [
        "# estabelecendo a string padrão com as chaves para indicar o lugar das variáveis\n",
        "formatter = \"{} {} {} {}\"\n",
        "\n",
        "#impressão com a estrutura das variáveis citadas acima\n",
        "print(formatter.format(1, 2, 3, 4)) #apenas números\n",
        "print(formatter.format(\"one\", \"two\", \"three\", \"four\")) #apenas strings\n",
        "print(formatter.format(True, False, False, True)) #apenas booleanos\n",
        "print(formatter.format(formatter, formatter, formatter, formatter)) #neste caso a impressão da própria variável, que tem 4 pares de chaves 4 vezes\n",
        "print(formatter.format( #texto quebrado em blocos para leiturabilidade, mas como é um único comando, ele será impresso em uma única linha.\n",
        "    \"Try your\",\n",
        "    \"Own text here\",\n",
        "    \"Maybe a poem\",\n",
        "    \"Or a song about fear\"\n",
        "))"
      ],
      "metadata": {
        "colab": {
          "base_uri": "https://localhost:8080/"
        },
        "id": "X_DXiPBmWAQb",
        "outputId": "204e92f8-08d7-4c5d-903a-3221777941b1"
      },
      "execution_count": null,
      "outputs": [
        {
          "output_type": "stream",
          "name": "stdout",
          "text": [
            "1 2 3 4\n",
            "one two three four\n",
            "True False False True\n",
            "{} {} {} {} {} {} {} {} {} {} {} {} {} {} {} {}\n",
            "Try your Own text here Maybe a poem Or a song about fear\n"
          ]
        }
      ]
    },
    {
      "cell_type": "markdown",
      "source": [
        "### 1.5.1 Novidades neste exercício\n",
        "\n",
        "1. Este exercício apresenta o conceito do formatter com múltiplas variáveis mencionado no item 1.3.1."
      ],
      "metadata": {
        "id": "rKhucqg5ZD-p"
      }
    },
    {
      "cell_type": "markdown",
      "source": [
        "### 1.5.2 Erros que cometi neste exercício\n",
        "\n",
        "Nenhum erro foi cometido na digitação e execução do exercício. Hooray!"
      ],
      "metadata": {
        "id": "qcBHcRVcZEYc"
      }
    }
  ]
}