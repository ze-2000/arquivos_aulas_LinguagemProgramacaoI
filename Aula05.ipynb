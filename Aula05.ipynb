{
  "nbformat": 4,
  "nbformat_minor": 0,
  "metadata": {
    "colab": {
      "provenance": [],
      "include_colab_link": true
    },
    "kernelspec": {
      "name": "python3",
      "display_name": "Python 3"
    },
    "language_info": {
      "name": "python"
    }
  },
  "cells": [
    {
      "cell_type": "markdown",
      "metadata": {
        "id": "view-in-github",
        "colab_type": "text"
      },
      "source": [
        "<a href=\"https://colab.research.google.com/github/ze-2000/arquivos_aulas_LinguagemProgramacaoI/blob/main/Aula05.ipynb\" target=\"_parent\"><img src=\"https://colab.research.google.com/assets/colab-badge.svg\" alt=\"Open In Colab\"/></a>"
      ]
    },
    {
      "cell_type": "markdown",
      "source": [
        "## Disclaimer\n",
        "\n",
        "Conforme explicado nos últimos exercícios da aula 04, o Colab só oferece suporte ao terminal na versão paga.\n",
        "\n",
        "Neste caso, como a maior parte dos códigos resultarão em um erro ao serem executados, não rodarei pelo colab e anexarei a imagem do resultado feito via VS Code como evidência."
      ],
      "metadata": {
        "id": "sU5X5O6whgMH"
      }
    },
    {
      "cell_type": "markdown",
      "source": [
        "## Exercício 23 - Lendo arquivos"
      ],
      "metadata": {
        "id": "0LTZMpL48rM-"
      }
    },
    {
      "cell_type": "code",
      "source": [
        "from sys import argv\n",
        "\n",
        "# manipulação de arquivos\n",
        "script, filename = argv\n",
        "txt = open (filename)\n",
        "\n",
        "print(f\"Here's yout file {filename}:\")\n",
        "print(txt.read())\n",
        "\n",
        "print(\"Type the filename again: \")\n",
        "file_again = input (\"> \")\n",
        "\n",
        "txt_again = open(file_again)\n",
        "\n",
        "print(txt_again.read())"
      ],
      "metadata": {
        "id": "PQaUu_gj8qyq"
      },
      "execution_count": null,
      "outputs": []
    },
    {
      "cell_type": "markdown",
      "source": [
        "## Exercício 24 - Lendo e gravando arquivos"
      ],
      "metadata": {
        "id": "-_9IrXDH9ogP"
      }
    },
    {
      "cell_type": "code",
      "source": [
        "from sys import argv\n",
        "\n",
        "script, filename = argv\n",
        "\n",
        "print(f\"We're going to erase {filename}.\")\n",
        "print(\"If you don't want that, hit CTRL C (^C).\")\n",
        "print(\"If you do want that, hit return.\")\n",
        "\n",
        "input(\"?\")\n",
        "\n",
        "print(\"Opening the file...\")\n",
        "target = open(filename, 'w')\n",
        "\n",
        "print(\"Truncating the file. Goodbye!\")\n",
        "target.truncate()\n",
        "\n",
        "print(\"Now I'm going to ask you for three lines.\")\n",
        "\n",
        "line1 = input(\"line 1: \")\n",
        "line2 = input(\"line 2: \")\n",
        "line3 = input(\"line 3: \")\n",
        "\n",
        "print(\"I'm going to write these to the file.\")\n",
        "\n",
        "target.write(line1)\n",
        "target.write(\"\\n\")\n",
        "target.write(line2)\n",
        "target.write(\"\\n\")\n",
        "target.write(line3)\n",
        "target.write(\"\\n\")\n",
        "\n",
        "print(\"And finally, we close it.\")\n",
        "target.close"
      ],
      "metadata": {
        "id": "kkT7bx3z9n-Z"
      },
      "execution_count": null,
      "outputs": []
    },
    {
      "cell_type": "markdown",
      "source": [
        "## Exercicio 25 - Mais arquivos"
      ],
      "metadata": {
        "id": "yXMn1Qo3_HyP"
      }
    },
    {
      "cell_type": "code",
      "source": [
        "from sys import argv\n",
        "from os.path import exists\n",
        "\n",
        "script, from_file, to_file = argv\n",
        "\n",
        "print(f\"Copying from {from_file} to {to_file}\")\n",
        "\n",
        "#poderíamos fazer esses dois em uma linha, como?\n",
        "\n",
        "in_file = open(from_file)\n",
        "indata = in_file.read()\n",
        "\n",
        "print(f\"The input file is {len(indata)} bytes long.\")\n",
        "\n",
        "print(f\"Does the output file exists? {exists(to_file)}\")\n",
        "print(\"Ready, hit RETURN to continue, CTRL-C to abort.\")\n",
        "input()\n",
        "\n",
        "out_file = open(to_file, 'w')\n",
        "out_file.write(indata)\n",
        "\n",
        "print(\"Alright, all done.\")\n",
        "\n",
        "out_file.close()\n",
        "in_file.close()"
      ],
      "metadata": {
        "id": "8VHNAXLY_IIo"
      },
      "execution_count": null,
      "outputs": []
    },
    {
      "cell_type": "markdown",
      "source": [
        "## Exercícios 26 - Funções e Arquivos"
      ],
      "metadata": {
        "id": "s3_X8Cs6Ar-4"
      }
    },
    {
      "cell_type": "code",
      "source": [
        "from sys import argv\n",
        "\n",
        "script, input_file = argv\n",
        "\n",
        "def print_all(f):\n",
        "  print(f.read())\n",
        "\n",
        "def rewind(f):\n",
        "  f.seek(0)\n",
        "\n",
        "def print_a_line(line_count, f):\n",
        "  print(line_count, f.readline())\n",
        "\n",
        "current_file: open(input_file)\n",
        "\n",
        "print(\"First let's print the whole file:\\n\")\n",
        "\n",
        "print_all(current_file)\n",
        "\n",
        "print(\"Now let's rewind, kind of like a tape.\")\n",
        "\n",
        "rewind(current_file)\n",
        "\n",
        "print(\"Let's print three lines: \")\n",
        "\n",
        "current_line = 1\n",
        "print_a_line(current_line, current_file)\n",
        "\n",
        "current_line = current_line + 1\n",
        "print_a_line(current_line, current_file)\n",
        "\n",
        "current_line = current_line + 1\n",
        "print_a_line(current_line, current_file)"
      ],
      "metadata": {
        "id": "koxCkSqyA2n3"
      },
      "execution_count": null,
      "outputs": []
    },
    {
      "cell_type": "markdown",
      "source": [
        "## Exercício 27 - Mais prática"
      ],
      "metadata": {
        "id": "RDZ_7srYCBWS"
      }
    },
    {
      "cell_type": "code",
      "source": [
        "print(\"Let's practice everything.\")\n",
        "print('You\\'d need to know \\'bout escapes with \\\\ that do:')\n",
        "print('\\n newlines and \\t tabs.')\n",
        "\n",
        "poem = \"\"\"\n",
        "\\tThe lovely world\n",
        "with logic so firmly planted\n",
        "cannot discern \\n the needs of love\n",
        "nor comprehend passion from intuition\n",
        "\\n\\t\\twhere there is none.\n",
        "\"\"\"\n",
        "\n",
        "print(\"-----------------\")\n",
        "print(poem)\n",
        "print(\"-----------------\")\n",
        "\n",
        "five = 10 - 2 + 3 - 6\n",
        "print(f\"This should be five: {five}\")\n",
        "\n",
        "def secret_formula(started):\n",
        "  jelly_beans = started * 500\n",
        "  jars = jelly_beans / 1000\n",
        "  crates = jars / 100\n",
        "\n",
        "  return jelly_beans, jars, crates\n",
        "\n",
        "start_point = 10000\n",
        "beans, jars, crates = secret_formula(start_point)\n",
        "\n",
        "#lembre-se que essa é outra maneira de formatar uma string\n",
        "print(\"With a starting point of: {}\".format(start_point))\n",
        "# é como usar a string f\"\"\n",
        "print(f\"We'd have {beans} beans, {jars} jars, and {crates} crates.\")\n",
        "\n",
        "start_point = start_point / 10\n",
        "\n",
        "print(\"We can also do that this way:\")\n",
        "formula = secret_formula(start_point)\n",
        "# essa é uma maneira fácil de aplicar uma lista e uma string de formatação\n",
        "\n",
        "print (\"We'd have {} beans, {} jars, and {} crates.\".format(*formula))"
      ],
      "metadata": {
        "id": "ifTy2AIiCBvZ",
        "colab": {
          "base_uri": "https://localhost:8080/"
        },
        "outputId": "f9a1f04d-870a-43f7-cef2-88cc591869c1"
      },
      "execution_count": null,
      "outputs": [
        {
          "output_type": "stream",
          "name": "stdout",
          "text": [
            "Let's practice everything.\n",
            "You'd need to know 'bout escapes with \\ that do:\n",
            "\n",
            " newlines and \t tabs.\n",
            "-----------------\n",
            "\n",
            "\tThe lovely world\n",
            "with logic so firmly planted\n",
            "cannot discern \n",
            " the needs of love\n",
            "nor comprehend passion from intuition\n",
            "\n",
            "\t\twhere there is none.\n",
            "\n",
            "-----------------\n",
            "This should be five: 5\n",
            "With a starting point of: 10000\n",
            "We'd have 5000000 beans, 5000.0 jars, and 50.0 crates.\n",
            "We can also do that this way:\n",
            "We'd have 500000.0 beans, 500.0 jars, and 5.0 crates.\n"
          ]
        }
      ]
    },
    {
      "cell_type": "markdown",
      "source": [
        "## Exercício 28 - Desvios e funções"
      ],
      "metadata": {
        "id": "i0zR5AYNFU-G"
      }
    },
    {
      "cell_type": "code",
      "source": [
        "from sys import exit\n",
        "\n",
        "def sala_do_ouro():\n",
        "  print(\"Esta sala está cheia de ouro. Quanto você pega?\")\n",
        "  print(\"Digite um número.\")\n",
        "\n",
        "  escolha = input(\"> \")\n",
        "  if \"0\" in escolha or \"1\" in escolha:\n",
        "    quanto = int(escolha)\n",
        "  else:\n",
        "    morrer(\"Cara, aprenda a digitar um número.\")\n",
        "\n",
        "  if quanto < 50:\n",
        "    print(\"Legal, você não é ganancioso, você venceu!\")\n",
        "    exit(0)\n",
        "  else:\n",
        "    morrer(\"Seu ganancioso!\")\n",
        "\n",
        "  def sala_do_urso():\n",
        "    print(\"Há um urso aqui.\")\n",
        "    print(\"O urso tem um monte de mel.\")\n",
        "    print(\"O urso gordo está na frente de outra porta.\")\n",
        "    print(\"O que você faz?\")\n",
        "    print(\"Opções: 'pegar mel', 'provocar urso'.\")"
      ],
      "metadata": {
        "id": "pNPviBB4FUaj"
      },
      "execution_count": null,
      "outputs": []
    },
    {
      "cell_type": "markdown",
      "source": [],
      "metadata": {
        "id": "1JS3hU8rsGHE"
      }
    },
    {
      "cell_type": "code",
      "source": [
        "from sys import argv\n",
        "\n"
      ],
      "metadata": {
        "id": "37m_Xw8s6Wmq"
      },
      "execution_count": null,
      "outputs": []
    },
    {
      "cell_type": "code",
      "execution_count": null,
      "metadata": {
        "colab": {
          "base_uri": "https://localhost:8080/"
        },
        "id": "MSllS-wMofU-",
        "outputId": "3b0b29af-f750-44c5-e635-d54df948e5c1"
      },
      "outputs": [
        {
          "output_type": "stream",
          "name": "stdout",
          "text": [
            "teste\n",
            "\n",
            "linha 1\n",
            "\n",
            "linha 2\n",
            "\n",
            "linha 3\n"
          ]
        }
      ],
      "source": [
        "# quando trabalhamos com manipulação de arquivos, devemos criar e atribuir em uma variável\n",
        "\n",
        "# nomeDeVariavel = arquivo\n",
        "\n",
        "#ciclo de vida de um arquivo: abertura, manipulação (leitura, gravação), fechamento\n",
        " #open ('o caminho do arquivo, modo - leitura, escrita, etc, codificação')\n",
        "\n",
        "def leituraArquivo(nomedoArquivo):\n",
        "  arquEntrada = open(nomeDoArquivo, 'r')\n",
        "  conteudo = arquEntrada.read()\n",
        "  arquEntrada.close()\n",
        "\n",
        "  return conteudo\n",
        "\n",
        "  def leituraArquivo(nomedoArquivo):\n",
        "    arquEntrada = open(nomeDoArquivo, 'r')\n",
        "    conteudo = arquEntrada.read()\n",
        "    arquEntrada.close()\n",
        "\n",
        "  return len(conteudo) #tamanho das coisas. número de caracteres, etc.\n",
        "\n",
        "\n",
        "#sempre que construir funções, escrever o que ela faz logo na primeira linha.\n",
        "\n"
      ]
    }
  ]
}